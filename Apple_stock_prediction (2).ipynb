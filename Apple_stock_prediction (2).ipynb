{
  "nbformat": 4,
  "nbformat_minor": 0,
  "metadata": {
    "colab": {
      "provenance": []
    },
    "kernelspec": {
      "name": "python3",
      "display_name": "Python 3"
    },
    "language_info": {
      "name": "python"
    }
  },
  "cells": [
    {
      "cell_type": "code",
      "source": [
        "from google.colab import drive\n",
        "drive.mount('/content/drive')"
      ],
      "metadata": {
        "colab": {
          "base_uri": "https://localhost:8080/"
        },
        "id": "b5PocZxO3j97",
        "outputId": "67f2bd6e-0759-410b-f566-fcc3cd1513ae"
      },
      "execution_count": 2,
      "outputs": [
        {
          "output_type": "stream",
          "name": "stdout",
          "text": [
            "Mounted at /content/drive\n"
          ]
        }
      ]
    },
    {
      "cell_type": "markdown",
      "source": [
        "Apple Stock market Prediction"
      ],
      "metadata": {
        "id": "hlVGQsicGj6G"
      }
    },
    {
      "cell_type": "code",
      "source": [
        "import pandas as pd\n",
        "# Load your Excel file\n",
        "df = pd.read_excel('/content/drive/MyDrive/internship/task 1 dataset3.xlsx')"
      ],
      "metadata": {
        "id": "3loTz-tB6tft"
      },
      "execution_count": 41,
      "outputs": []
    },
    {
      "cell_type": "markdown",
      "source": [],
      "metadata": {
        "id": "qe8xIYIJGjO4"
      }
    },
    {
      "cell_type": "code",
      "source": [
        "# Get the shape of the DataFrame\n",
        "print(\"DataFrame Shape:\")\n",
        "print(df.shape)  # Outputs: (number_of_rows, number_of_columns)\n",
        "\n",
        "# Get descriptive statistics of the DataFrame\n",
        "print(\"\\nDescriptive Statistics:\")\n",
        "print(df.describe())  # Outputs statistical summary of numerical columns\n"
      ],
      "metadata": {
        "colab": {
          "base_uri": "https://localhost:8080/"
        },
        "id": "nttdZ0fXD4A4",
        "outputId": "b664c015-d1d8-423d-8138-d6c0376c3484"
      },
      "execution_count": 42,
      "outputs": [
        {
          "output_type": "stream",
          "name": "stdout",
          "text": [
            "DataFrame Shape:\n",
            "(253, 19)\n",
            "\n",
            "Descriptive Statistics:\n",
            "               Date        Open        High         Low       Close  \\\n",
            "count    252.000000  253.000000  253.000000  253.000000  253.000000   \n",
            "mean   45320.527778  187.075494  188.698382  185.469842  187.099185   \n",
            "std      106.497046   15.948873   16.100312   15.552636   15.820642   \n",
            "min    45139.000000  165.350006  166.399994  164.080002  165.000000   \n",
            "25%    45228.250000  175.309998  177.080002  173.740005  175.460007   \n",
            "50%    45321.500000  183.919998  185.149994  182.110001  184.119995   \n",
            "75%    45412.250000  192.899994  194.399994  191.720001  192.580002   \n",
            "max    45504.000000  236.479996  237.229996  233.089996  234.820007   \n",
            "\n",
            "        Adj Close        Volume     Sale Price            Mrp  \\\n",
            "count  253.000000  2.530000e+02      62.000000      62.000000   \n",
            "mean   186.712551  6.033252e+07   80073.887097   88058.064516   \n",
            "std     15.959572  2.467556e+07   34310.446132   34728.825597   \n",
            "min    164.776505  2.404830e+07   29999.000000   39900.000000   \n",
            "25%    174.802902  4.714560e+07   49900.000000   54900.000000   \n",
            "50%    183.610962  5.379050e+07   75900.000000   79900.000000   \n",
            "75%    192.350006  6.603460e+07  117100.000000  120950.000000   \n",
            "max    234.820007  2.464214e+08  140900.000000  149900.000000   \n",
            "\n",
            "       Discount Percentage  Number Of Ratings  Number Of Reviews  Unnamed: 16  \\\n",
            "count            62.000000          62.000000          62.000000          0.0   \n",
            "mean              9.951613       22420.403226        1861.677419          NaN   \n",
            "std               7.608079       33768.589550        2855.883830          NaN   \n",
            "min               0.000000         542.000000          42.000000          NaN   \n",
            "25%               6.000000         740.000000          64.000000          NaN   \n",
            "50%              10.000000        2101.000000         180.000000          NaN   \n",
            "75%              14.000000       43470.000000        3331.000000          NaN   \n",
            "max              29.000000       95909.000000        8161.000000          NaN   \n",
            "\n",
            "       Star Rating  \n",
            "count    62.000000  \n",
            "mean      4.575806  \n",
            "std       0.059190  \n",
            "min       4.500000  \n",
            "25%       4.500000  \n",
            "50%       4.600000  \n",
            "75%       4.600000  \n",
            "max       4.700000  \n"
          ]
        }
      ]
    },
    {
      "cell_type": "code",
      "source": [
        "# Inspect the data\n",
        "print(\"Initial Data:\")\n",
        "print(df.head())\n",
        "\n",
        "# Check for missing values\n",
        "print(\"\\nMissing Values:\")\n",
        "print(df.isnull().sum())\n"
      ],
      "metadata": {
        "colab": {
          "base_uri": "https://localhost:8080/"
        },
        "id": "ZQugfFZJ7dpx",
        "outputId": "0dc53fa0-e7e3-41b1-e79e-48d7043e9d71"
      },
      "execution_count": 43,
      "outputs": [
        {
          "output_type": "stream",
          "name": "stdout",
          "text": [
            "Initial Data:\n",
            "      Date Stock Price        Open        High         Low       Close  \\\n",
            "0  45139.0     $189.08  196.240005  196.729996  195.279999  195.610001   \n",
            "1  45140.0     $189.08  195.039993  195.179993  191.850006  192.580002   \n",
            "2  45141.0     $189.08  191.570007  192.369995  190.690002  191.169998   \n",
            "3  45142.0     $189.08  185.520004  187.380005  181.919998  181.990005   \n",
            "4  45145.0     $189.08  182.130005  183.130005  177.350006  178.850006   \n",
            "\n",
            "    Adj Close     Volume                              Product Name  \\\n",
            "0  194.576645   35175100         APPLE iPhone 8 Plus (Gold, 64 GB)   \n",
            "1  191.562653   50389300  APPLE iPhone 8 Plus (Space Grey, 256 GB)   \n",
            "2  190.160110   61235200      APPLE iPhone 8 Plus (Silver, 256 GB)   \n",
            "3  181.028610  115799700           APPLE iPhone 8 (Silver, 256 GB)   \n",
            "4  177.905182   97576100             APPLE iPhone 8 (Gold, 256 GB)   \n",
            "\n",
            "   Sale Price Country      Mrp  Brand  Discount Percentage  Number Of Ratings  \\\n",
            "0     49900.0     USA  49900.0  Apple                  0.0             3431.0   \n",
            "1     84900.0     USA  84900.0  Apple                  0.0             3431.0   \n",
            "2     84900.0     USA  84900.0  Apple                  0.0             3431.0   \n",
            "3     77000.0     USA  77000.0  Apple                  0.0            11202.0   \n",
            "4     77000.0     USA  77000.0  Apple                  0.0            11202.0   \n",
            "\n",
            "   Number Of Reviews  Unnamed: 16  Star Rating   Ram  \n",
            "0              356.0          NaN          4.6  2 GB  \n",
            "1              356.0          NaN          4.6  2 GB  \n",
            "2              356.0          NaN          4.6  2 GB  \n",
            "3              794.0          NaN          4.5  2 GB  \n",
            "4              794.0          NaN          4.5  2 GB  \n",
            "\n",
            "Missing Values:\n",
            "Date                     1\n",
            "Stock Price              1\n",
            "Open                     0\n",
            "High                     0\n",
            "Low                      0\n",
            "Close                    0\n",
            "Adj Close                0\n",
            "Volume                   0\n",
            "Product Name           191\n",
            "Sale Price             191\n",
            "Country                  0\n",
            "Mrp                    191\n",
            "Brand                  191\n",
            "Discount Percentage    191\n",
            "Number Of Ratings      191\n",
            "Number Of Reviews      191\n",
            "Unnamed: 16            253\n",
            "Star Rating            191\n",
            "Ram                    191\n",
            "dtype: int64\n"
          ]
        }
      ]
    },
    {
      "cell_type": "markdown",
      "source": [
        "# Display the first few rows of the dataset to get an overview of the data and check missing values."
      ],
      "metadata": {
        "id": "L1mkSel8EMPt"
      }
    },
    {
      "cell_type": "code",
      "source": [
        "df.fillna({\n",
        "    'Sale Price':df['Sale Price'].mean(),\n",
        "    'Mrp': df['Mrp'].mean(),\n",
        "    'Discount Percentage': df['Discount Percentage'].mean(),\n",
        "    'Number Of Ratings': df['Number Of Ratings'].mean(),\n",
        "    'Number Of Reviews': df['Number Of Reviews'].mean(),\n",
        "    'Star Rating': df['Star Rating'].mean(),\n",
        "    'Ram': df['Ram'].mode()[0]  # Fill missing RAM values with the most frequent value\n",
        "}, inplace=True)\n",
        "# Drop specified columns\n",
        "df.drop(columns=['Unnamed: 16'], inplace=True)\n",
        "# Fill 'Brand' column with 'Apple'\n",
        "df['Brand'] = 'Apple'\n",
        "# Handle missing values in 'Product Name'\n",
        "# Filling missing 'Product Name' with a placeholder or most frequent value\n",
        "most_frequent_product_name = df['Product Name'].mode()[0]\n",
        "df['Product Name'].fillna(most_frequent_product_name, inplace=True)\n",
        "df['Date'].fillna(method='ffill', inplace=True)\n",
        "df['Stock Price'].fillna(method='ffill', inplace=True)"
      ],
      "metadata": {
        "colab": {
          "base_uri": "https://localhost:8080/"
        },
        "id": "8t6KV8Rn8jjl",
        "outputId": "6482c1cc-37a5-4896-d471-752ada5e7be9"
      },
      "execution_count": 44,
      "outputs": [
        {
          "output_type": "stream",
          "name": "stderr",
          "text": [
            "<ipython-input-44-dcccde4d2303>:18: FutureWarning: Series.fillna with 'method' is deprecated and will raise in a future version. Use obj.ffill() or obj.bfill() instead.\n",
            "  df['Date'].fillna(method='ffill', inplace=True)\n",
            "<ipython-input-44-dcccde4d2303>:19: FutureWarning: Series.fillna with 'method' is deprecated and will raise in a future version. Use obj.ffill() or obj.bfill() instead.\n",
            "  df['Stock Price'].fillna(method='ffill', inplace=True)\n"
          ]
        }
      ]
    },
    {
      "cell_type": "markdown",
      "source": [
        "The code provided performs several data cleaning and preprocessing steps on a DataFrame. First, it addresses missing values by filling them with statistical measures: the mean values are used for numerical columns such as 'Sale Price', 'Mrp', 'Discount Percentage', 'Number Of Ratings', 'Number Of Reviews', and 'Star Rating', while the most frequent value (mode) is used to fill missing entries in the 'Ram' column. It then drops the 'Unnamed: 16' column, which is deemed unnecessary for further analysis. The 'Brand' column is updated to 'Apple' for all rows, assuming the dataset exclusively pertains to Apple products. For the 'Product Name' column, any missing values are replaced with the most frequent product name. Finally, the code handles missing values in the 'Date' and 'Stock Price' columns by using forward fill (method='ffill'), which propagates the last valid observation forward to fill in gaps. These steps ensure that the dataset is complete and ready for analysis or modeling.\n",
        "\n"
      ],
      "metadata": {
        "id": "Y3uk0ynvErCJ"
      }
    },
    {
      "cell_type": "code",
      "source": [
        "print(df.isnull().sum())"
      ],
      "metadata": {
        "colab": {
          "base_uri": "https://localhost:8080/"
        },
        "id": "3XdG9Bnq9JiU",
        "outputId": "32c564e4-4bb2-46e3-8ee4-5bc93ea41c84"
      },
      "execution_count": 45,
      "outputs": [
        {
          "output_type": "stream",
          "name": "stdout",
          "text": [
            "Date                   0\n",
            "Stock Price            0\n",
            "Open                   0\n",
            "High                   0\n",
            "Low                    0\n",
            "Close                  0\n",
            "Adj Close              0\n",
            "Volume                 0\n",
            "Product Name           0\n",
            "Sale Price             0\n",
            "Country                0\n",
            "Mrp                    0\n",
            "Brand                  0\n",
            "Discount Percentage    0\n",
            "Number Of Ratings      0\n",
            "Number Of Reviews      0\n",
            "Star Rating            0\n",
            "Ram                    0\n",
            "dtype: int64\n"
          ]
        }
      ]
    },
    {
      "cell_type": "code",
      "source": [
        "# Inspect cleaned data\n",
        "print(\"\\nCleaned Data:\")\n",
        "print(df.head())\n"
      ],
      "metadata": {
        "colab": {
          "base_uri": "https://localhost:8080/"
        },
        "id": "lprR4cXa-XkX",
        "outputId": "9eea205e-70ac-4436-a12a-bba56f66c060"
      },
      "execution_count": 46,
      "outputs": [
        {
          "output_type": "stream",
          "name": "stdout",
          "text": [
            "\n",
            "Cleaned Data:\n",
            "      Date Stock Price        Open        High         Low       Close  \\\n",
            "0  45139.0     $189.08  196.240005  196.729996  195.279999  195.610001   \n",
            "1  45140.0     $189.08  195.039993  195.179993  191.850006  192.580002   \n",
            "2  45141.0     $189.08  191.570007  192.369995  190.690002  191.169998   \n",
            "3  45142.0     $189.08  185.520004  187.380005  181.919998  181.990005   \n",
            "4  45145.0     $189.08  182.130005  183.130005  177.350006  178.850006   \n",
            "\n",
            "    Adj Close     Volume                              Product Name  \\\n",
            "0  194.576645   35175100         APPLE iPhone 8 Plus (Gold, 64 GB)   \n",
            "1  191.562653   50389300  APPLE iPhone 8 Plus (Space Grey, 256 GB)   \n",
            "2  190.160110   61235200      APPLE iPhone 8 Plus (Silver, 256 GB)   \n",
            "3  181.028610  115799700           APPLE iPhone 8 (Silver, 256 GB)   \n",
            "4  177.905182   97576100             APPLE iPhone 8 (Gold, 256 GB)   \n",
            "\n",
            "   Sale Price Country      Mrp  Brand  Discount Percentage  Number Of Ratings  \\\n",
            "0     49900.0     USA  49900.0  Apple                  0.0             3431.0   \n",
            "1     84900.0     USA  84900.0  Apple                  0.0             3431.0   \n",
            "2     84900.0     USA  84900.0  Apple                  0.0             3431.0   \n",
            "3     77000.0     USA  77000.0  Apple                  0.0            11202.0   \n",
            "4     77000.0     USA  77000.0  Apple                  0.0            11202.0   \n",
            "\n",
            "   Number Of Reviews  Star Rating   Ram  \n",
            "0              356.0          4.6  2 GB  \n",
            "1              356.0          4.6  2 GB  \n",
            "2              356.0          4.6  2 GB  \n",
            "3              794.0          4.5  2 GB  \n",
            "4              794.0          4.5  2 GB  \n"
          ]
        }
      ]
    },
    {
      "cell_type": "code",
      "source": [
        "print(df.dtypes)\n",
        "# Convert columns to numeric, errors='coerce' will convert invalid parsing to NaN\n",
        "df['Sale Price'] = pd.to_numeric(df['Sale Price'], errors='coerce')\n",
        "df['Mrp'] = pd.to_numeric(df['Mrp'], errors='coerce')\n",
        "df['Volume'] = pd.to_numeric(df['Volume'], errors='coerce')\n"
      ],
      "metadata": {
        "colab": {
          "base_uri": "https://localhost:8080/"
        },
        "id": "lGis2Y6tFWTV",
        "outputId": "6d3b3fbe-8ada-4af5-dcf2-a83e111cef31"
      },
      "execution_count": 47,
      "outputs": [
        {
          "output_type": "stream",
          "name": "stdout",
          "text": [
            "Date                   float64\n",
            "Stock Price             object\n",
            "Open                   float64\n",
            "High                   float64\n",
            "Low                    float64\n",
            "Close                  float64\n",
            "Adj Close              float64\n",
            "Volume                   int64\n",
            "Product Name            object\n",
            "Sale Price             float64\n",
            "Country                 object\n",
            "Mrp                    float64\n",
            "Brand                   object\n",
            "Discount Percentage    float64\n",
            "Number Of Ratings      float64\n",
            "Number Of Reviews      float64\n",
            "Star Rating            float64\n",
            "Ram                     object\n",
            "dtype: object\n"
          ]
        }
      ]
    },
    {
      "cell_type": "code",
      "source": [
        "# Total Number of People in Use: Using Number Of Ratings\n",
        "df['Total number of people in use'] = df['Number Of Ratings']\n",
        "\n",
        "# Best in Tech: Assume 'Yes' if Star Rating > 4.5\n",
        "df['Best in Tech'] = df['Star Rating'].apply(lambda x: 'Yes' if x > 4.5 else 'No')\n",
        "\n",
        "# Total Sales Since Launch: Cumulative sum of Volume\n",
        "df['Total Sales since launch'] = df.groupby('Product Name')['Volume'].cumsum()\n",
        "\n",
        "# Total Number of Average Stocks Bought\n",
        "df['Total Number of average stocks Bought'] = df.groupby('Product Name')['Volume'].transform('mean')"
      ],
      "metadata": {
        "id": "NsOJFLhkFnS_"
      },
      "execution_count": 48,
      "outputs": []
    },
    {
      "cell_type": "markdown",
      "source": [
        "The code snippet performs several important calculations to enrich the dataset. First, it calculates the Total Number of People in Use by directly assigning the 'Number Of Ratings' to this attribute, assuming that the number of ratings reflects the number of people using the product. Next, it determines whether a product is classified as Best in Tech by evaluating the 'Star Rating'; if the rating exceeds 4.5, the product is labeled as 'Yes', otherwise 'No'. To track sales performance, the Total Sales Since Launch is computed by accumulating the 'Volume' of sales for each product over time using a cumulative sum function, which provides a running total of sales for each product. Lastly, the Total Number of Average Stocks Bought is calculated as the average 'Volume' of sales per product, obtained by grouping the data by 'Product Name' and applying a mean transformation. These calculations provide valuable insights and features that can be used for further analysis or predictive modeling."
      ],
      "metadata": {
        "id": "qZ7V0UIvFnKr"
      }
    },
    {
      "cell_type": "code",
      "source": [
        "# Total Profits: (Sale Price - Cost) * Volume\n",
        "df['Cost'] = df['Mrp'] * 0.8\n",
        "df['Total Profits'] = (df['Sale Price'] - df['Cost']) * df['Volume']"
      ],
      "metadata": {
        "id": "bscdfxd9-kJi"
      },
      "execution_count": 49,
      "outputs": []
    },
    {
      "cell_type": "code",
      "source": [
        "# Inspect cleaned and processed data\n",
        "print(\"\\nCleaned and Processed Data:\")\n",
        "print(df.head())\n"
      ],
      "metadata": {
        "colab": {
          "base_uri": "https://localhost:8080/"
        },
        "id": "lIcsj_xcGBR2",
        "outputId": "fea6be6f-3a29-4ab6-b425-be4153801f7c"
      },
      "execution_count": 50,
      "outputs": [
        {
          "output_type": "stream",
          "name": "stdout",
          "text": [
            "\n",
            "Cleaned and Processed Data:\n",
            "      Date Stock Price        Open        High         Low       Close  \\\n",
            "0  45139.0     $189.08  196.240005  196.729996  195.279999  195.610001   \n",
            "1  45140.0     $189.08  195.039993  195.179993  191.850006  192.580002   \n",
            "2  45141.0     $189.08  191.570007  192.369995  190.690002  191.169998   \n",
            "3  45142.0     $189.08  185.520004  187.380005  181.919998  181.990005   \n",
            "4  45145.0     $189.08  182.130005  183.130005  177.350006  178.850006   \n",
            "\n",
            "    Adj Close     Volume                              Product Name  \\\n",
            "0  194.576645   35175100         APPLE iPhone 8 Plus (Gold, 64 GB)   \n",
            "1  191.562653   50389300  APPLE iPhone 8 Plus (Space Grey, 256 GB)   \n",
            "2  190.160110   61235200      APPLE iPhone 8 Plus (Silver, 256 GB)   \n",
            "3  181.028610  115799700           APPLE iPhone 8 (Silver, 256 GB)   \n",
            "4  177.905182   97576100             APPLE iPhone 8 (Gold, 256 GB)   \n",
            "\n",
            "   Sale Price  ... Number Of Ratings  Number Of Reviews Star Rating   Ram  \\\n",
            "0     49900.0  ...            3431.0              356.0         4.6  2 GB   \n",
            "1     84900.0  ...            3431.0              356.0         4.6  2 GB   \n",
            "2     84900.0  ...            3431.0              356.0         4.6  2 GB   \n",
            "3     77000.0  ...           11202.0              794.0         4.5  2 GB   \n",
            "4     77000.0  ...           11202.0              794.0         4.5  2 GB   \n",
            "\n",
            "   Total number of people in use  Best in Tech  Total Sales since launch  \\\n",
            "0                         3431.0           Yes                  35175100   \n",
            "1                         3431.0           Yes                  50389300   \n",
            "2                         3431.0           Yes                  61235200   \n",
            "3                        11202.0            No                 115799700   \n",
            "4                        11202.0            No                  97576100   \n",
            "\n",
            "  Total Number of average stocks Bought     Cost Total Profits  \n",
            "0                            35175100.0  39920.0  3.510475e+11  \n",
            "1                            50389300.0  67920.0  8.556103e+11  \n",
            "2                            61235200.0  67920.0  1.039774e+12  \n",
            "3                           115799700.0  61600.0  1.783315e+12  \n",
            "4                            97576100.0  61600.0  1.502672e+12  \n",
            "\n",
            "[5 rows x 24 columns]\n"
          ]
        }
      ]
    },
    {
      "cell_type": "code",
      "source": [
        "print(df.head())\n",
        "df.dtypes"
      ],
      "metadata": {
        "colab": {
          "base_uri": "https://localhost:8080/",
          "height": 1000
        },
        "id": "UanMLtN_uY0q",
        "outputId": "d4167e07-151a-4138-8887-8d944505073d"
      },
      "execution_count": 51,
      "outputs": [
        {
          "output_type": "stream",
          "name": "stdout",
          "text": [
            "      Date Stock Price        Open        High         Low       Close  \\\n",
            "0  45139.0     $189.08  196.240005  196.729996  195.279999  195.610001   \n",
            "1  45140.0     $189.08  195.039993  195.179993  191.850006  192.580002   \n",
            "2  45141.0     $189.08  191.570007  192.369995  190.690002  191.169998   \n",
            "3  45142.0     $189.08  185.520004  187.380005  181.919998  181.990005   \n",
            "4  45145.0     $189.08  182.130005  183.130005  177.350006  178.850006   \n",
            "\n",
            "    Adj Close     Volume                              Product Name  \\\n",
            "0  194.576645   35175100         APPLE iPhone 8 Plus (Gold, 64 GB)   \n",
            "1  191.562653   50389300  APPLE iPhone 8 Plus (Space Grey, 256 GB)   \n",
            "2  190.160110   61235200      APPLE iPhone 8 Plus (Silver, 256 GB)   \n",
            "3  181.028610  115799700           APPLE iPhone 8 (Silver, 256 GB)   \n",
            "4  177.905182   97576100             APPLE iPhone 8 (Gold, 256 GB)   \n",
            "\n",
            "   Sale Price  ... Number Of Ratings  Number Of Reviews Star Rating   Ram  \\\n",
            "0     49900.0  ...            3431.0              356.0         4.6  2 GB   \n",
            "1     84900.0  ...            3431.0              356.0         4.6  2 GB   \n",
            "2     84900.0  ...            3431.0              356.0         4.6  2 GB   \n",
            "3     77000.0  ...           11202.0              794.0         4.5  2 GB   \n",
            "4     77000.0  ...           11202.0              794.0         4.5  2 GB   \n",
            "\n",
            "   Total number of people in use  Best in Tech  Total Sales since launch  \\\n",
            "0                         3431.0           Yes                  35175100   \n",
            "1                         3431.0           Yes                  50389300   \n",
            "2                         3431.0           Yes                  61235200   \n",
            "3                        11202.0            No                 115799700   \n",
            "4                        11202.0            No                  97576100   \n",
            "\n",
            "  Total Number of average stocks Bought     Cost Total Profits  \n",
            "0                            35175100.0  39920.0  3.510475e+11  \n",
            "1                            50389300.0  67920.0  8.556103e+11  \n",
            "2                            61235200.0  67920.0  1.039774e+12  \n",
            "3                           115799700.0  61600.0  1.783315e+12  \n",
            "4                            97576100.0  61600.0  1.502672e+12  \n",
            "\n",
            "[5 rows x 24 columns]\n"
          ]
        },
        {
          "output_type": "execute_result",
          "data": {
            "text/plain": [
              "Date                                     float64\n",
              "Stock Price                               object\n",
              "Open                                     float64\n",
              "High                                     float64\n",
              "Low                                      float64\n",
              "Close                                    float64\n",
              "Adj Close                                float64\n",
              "Volume                                     int64\n",
              "Product Name                              object\n",
              "Sale Price                               float64\n",
              "Country                                   object\n",
              "Mrp                                      float64\n",
              "Brand                                     object\n",
              "Discount Percentage                      float64\n",
              "Number Of Ratings                        float64\n",
              "Number Of Reviews                        float64\n",
              "Star Rating                              float64\n",
              "Ram                                       object\n",
              "Total number of people in use            float64\n",
              "Best in Tech                              object\n",
              "Total Sales since launch                   int64\n",
              "Total Number of average stocks Bought    float64\n",
              "Cost                                     float64\n",
              "Total Profits                            float64\n",
              "dtype: object"
            ],
            "text/html": [
              "<div>\n",
              "<style scoped>\n",
              "    .dataframe tbody tr th:only-of-type {\n",
              "        vertical-align: middle;\n",
              "    }\n",
              "\n",
              "    .dataframe tbody tr th {\n",
              "        vertical-align: top;\n",
              "    }\n",
              "\n",
              "    .dataframe thead th {\n",
              "        text-align: right;\n",
              "    }\n",
              "</style>\n",
              "<table border=\"1\" class=\"dataframe\">\n",
              "  <thead>\n",
              "    <tr style=\"text-align: right;\">\n",
              "      <th></th>\n",
              "      <th>0</th>\n",
              "    </tr>\n",
              "  </thead>\n",
              "  <tbody>\n",
              "    <tr>\n",
              "      <th>Date</th>\n",
              "      <td>float64</td>\n",
              "    </tr>\n",
              "    <tr>\n",
              "      <th>Stock Price</th>\n",
              "      <td>object</td>\n",
              "    </tr>\n",
              "    <tr>\n",
              "      <th>Open</th>\n",
              "      <td>float64</td>\n",
              "    </tr>\n",
              "    <tr>\n",
              "      <th>High</th>\n",
              "      <td>float64</td>\n",
              "    </tr>\n",
              "    <tr>\n",
              "      <th>Low</th>\n",
              "      <td>float64</td>\n",
              "    </tr>\n",
              "    <tr>\n",
              "      <th>Close</th>\n",
              "      <td>float64</td>\n",
              "    </tr>\n",
              "    <tr>\n",
              "      <th>Adj Close</th>\n",
              "      <td>float64</td>\n",
              "    </tr>\n",
              "    <tr>\n",
              "      <th>Volume</th>\n",
              "      <td>int64</td>\n",
              "    </tr>\n",
              "    <tr>\n",
              "      <th>Product Name</th>\n",
              "      <td>object</td>\n",
              "    </tr>\n",
              "    <tr>\n",
              "      <th>Sale Price</th>\n",
              "      <td>float64</td>\n",
              "    </tr>\n",
              "    <tr>\n",
              "      <th>Country</th>\n",
              "      <td>object</td>\n",
              "    </tr>\n",
              "    <tr>\n",
              "      <th>Mrp</th>\n",
              "      <td>float64</td>\n",
              "    </tr>\n",
              "    <tr>\n",
              "      <th>Brand</th>\n",
              "      <td>object</td>\n",
              "    </tr>\n",
              "    <tr>\n",
              "      <th>Discount Percentage</th>\n",
              "      <td>float64</td>\n",
              "    </tr>\n",
              "    <tr>\n",
              "      <th>Number Of Ratings</th>\n",
              "      <td>float64</td>\n",
              "    </tr>\n",
              "    <tr>\n",
              "      <th>Number Of Reviews</th>\n",
              "      <td>float64</td>\n",
              "    </tr>\n",
              "    <tr>\n",
              "      <th>Star Rating</th>\n",
              "      <td>float64</td>\n",
              "    </tr>\n",
              "    <tr>\n",
              "      <th>Ram</th>\n",
              "      <td>object</td>\n",
              "    </tr>\n",
              "    <tr>\n",
              "      <th>Total number of people in use</th>\n",
              "      <td>float64</td>\n",
              "    </tr>\n",
              "    <tr>\n",
              "      <th>Best in Tech</th>\n",
              "      <td>object</td>\n",
              "    </tr>\n",
              "    <tr>\n",
              "      <th>Total Sales since launch</th>\n",
              "      <td>int64</td>\n",
              "    </tr>\n",
              "    <tr>\n",
              "      <th>Total Number of average stocks Bought</th>\n",
              "      <td>float64</td>\n",
              "    </tr>\n",
              "    <tr>\n",
              "      <th>Cost</th>\n",
              "      <td>float64</td>\n",
              "    </tr>\n",
              "    <tr>\n",
              "      <th>Total Profits</th>\n",
              "      <td>float64</td>\n",
              "    </tr>\n",
              "  </tbody>\n",
              "</table>\n",
              "</div><br><label><b>dtype:</b> object</label>"
            ]
          },
          "metadata": {},
          "execution_count": 51
        }
      ]
    },
    {
      "cell_type": "code",
      "source": [
        "from sklearn.preprocessing import LabelEncoder\n",
        "\n",
        "# Label Encoding for 'Country'\n",
        "label_encoder_country = LabelEncoder()\n",
        "\n",
        "df['Country Encoded'] = label_encoder_country.fit_transform(df['Country'])\n",
        "df['Ram']=label_encoder_country.fit_transform(df['Ram'])\n",
        "\n",
        "# Perform binary encoding for 'Best in Tech'\n",
        "df['Best in Tech Encoded'] = df['Best in Tech'].map({'yes': 1, 'no': 0})\n",
        "\n",
        "# Verify the changes\n",
        "print(df[['Best in Tech', 'Best in Tech Encoded']])"
      ],
      "metadata": {
        "colab": {
          "base_uri": "https://localhost:8080/"
        },
        "id": "sUrDlIPc2lJ8",
        "outputId": "95108b21-da8c-4ca3-b73b-f4d4b6de145f"
      },
      "execution_count": 52,
      "outputs": [
        {
          "output_type": "stream",
          "name": "stdout",
          "text": [
            "    Best in Tech  Best in Tech Encoded\n",
            "0            Yes                   NaN\n",
            "1            Yes                   NaN\n",
            "2            Yes                   NaN\n",
            "3             No                   NaN\n",
            "4             No                   NaN\n",
            "..           ...                   ...\n",
            "248          Yes                   NaN\n",
            "249          Yes                   NaN\n",
            "250          Yes                   NaN\n",
            "251          Yes                   NaN\n",
            "252          Yes                   NaN\n",
            "\n",
            "[253 rows x 2 columns]\n"
          ]
        }
      ]
    },
    {
      "cell_type": "code",
      "source": [
        "# Check the unique values in the 'Best in Tech' column\n",
        "print(\"Unique values before cleaning:\", df['Best in Tech'].unique())\n",
        "\n",
        "# Strip whitespace and convert to lowercase to ensure consistency\n",
        "df['Best in Tech'] = df['Best in Tech'].str.strip().str.lower()\n",
        "\n",
        "# Re-check the unique values\n",
        "print(\"Unique values after cleaning:\", df['Best in Tech'].unique())\n",
        "\n",
        "# Perform binary encoding for 'Best in Tech'\n",
        "df['Best in Tech Encoded'] = df['Best in Tech'].map({'yes': 1, 'no': 0})\n",
        "\n",
        "# Check for any remaining NaN values in the encoded column\n",
        "nan_count = df['Best in Tech Encoded'].isnull().sum()\n",
        "print(f\"Number of NaN values in 'Best in Tech Encoded': {nan_count}\")\n",
        "\n",
        "# Verify the changes\n",
        "print(df[['Best in Tech', 'Best in Tech Encoded']].head())"
      ],
      "metadata": {
        "colab": {
          "base_uri": "https://localhost:8080/"
        },
        "id": "mcONJQPW62xE",
        "outputId": "035d3225-3fa8-4bf6-a519-bc307599d507"
      },
      "execution_count": 53,
      "outputs": [
        {
          "output_type": "stream",
          "name": "stdout",
          "text": [
            "Unique values before cleaning: ['Yes' 'No']\n",
            "Unique values after cleaning: ['yes' 'no']\n",
            "Number of NaN values in 'Best in Tech Encoded': 0\n",
            "  Best in Tech  Best in Tech Encoded\n",
            "0          yes                     1\n",
            "1          yes                     1\n",
            "2          yes                     1\n",
            "3           no                     0\n",
            "4           no                     0\n"
          ]
        }
      ]
    },
    {
      "cell_type": "markdown",
      "source": [
        "So First Checking the unique values to identify any inconsistencies. Next, clean the data by stripping whitespace and converting all entries to lowercase, ensuring uniform formatting. After cleaning, re-check the unique values to confirm consistency. Then, perform binary encoding by mapping 'Yes' to 1 and 'No' to 0, which converts the categorical data into a numerical format suitable for analysis. Ensure there are no remaining NaN values in the encoded column. Finally, verify the changes by displaying a sample of the original and encoded columns to confirm that the data transformation has been applied correctly."
      ],
      "metadata": {
        "id": "9F-Z5L34F7wq"
      }
    },
    {
      "cell_type": "code",
      "source": [
        "df['Country Encoded']\n",
        "df['Ram']\n",
        "df['Best in Tech Encoded']\n",
        "df['Stock Price'] = df['Stock Price'].str.replace('$', '').astype(float)\n",
        "df['Stock Price']"
      ],
      "metadata": {
        "colab": {
          "base_uri": "https://localhost:8080/",
          "height": 458
        },
        "id": "b6-bmKWX5omF",
        "outputId": "aa66ce69-d85c-4ddd-dd2c-9e1afbd38bf2"
      },
      "execution_count": 54,
      "outputs": [
        {
          "output_type": "execute_result",
          "data": {
            "text/plain": [
              "0      189.08\n",
              "1      189.08\n",
              "2      189.08\n",
              "3      189.08\n",
              "4      189.08\n",
              "        ...  \n",
              "248    218.92\n",
              "249    218.92\n",
              "250    218.92\n",
              "251    218.92\n",
              "252    218.92\n",
              "Name: Stock Price, Length: 253, dtype: float64"
            ],
            "text/html": [
              "<div>\n",
              "<style scoped>\n",
              "    .dataframe tbody tr th:only-of-type {\n",
              "        vertical-align: middle;\n",
              "    }\n",
              "\n",
              "    .dataframe tbody tr th {\n",
              "        vertical-align: top;\n",
              "    }\n",
              "\n",
              "    .dataframe thead th {\n",
              "        text-align: right;\n",
              "    }\n",
              "</style>\n",
              "<table border=\"1\" class=\"dataframe\">\n",
              "  <thead>\n",
              "    <tr style=\"text-align: right;\">\n",
              "      <th></th>\n",
              "      <th>Stock Price</th>\n",
              "    </tr>\n",
              "  </thead>\n",
              "  <tbody>\n",
              "    <tr>\n",
              "      <th>0</th>\n",
              "      <td>189.08</td>\n",
              "    </tr>\n",
              "    <tr>\n",
              "      <th>1</th>\n",
              "      <td>189.08</td>\n",
              "    </tr>\n",
              "    <tr>\n",
              "      <th>2</th>\n",
              "      <td>189.08</td>\n",
              "    </tr>\n",
              "    <tr>\n",
              "      <th>3</th>\n",
              "      <td>189.08</td>\n",
              "    </tr>\n",
              "    <tr>\n",
              "      <th>4</th>\n",
              "      <td>189.08</td>\n",
              "    </tr>\n",
              "    <tr>\n",
              "      <th>...</th>\n",
              "      <td>...</td>\n",
              "    </tr>\n",
              "    <tr>\n",
              "      <th>248</th>\n",
              "      <td>218.92</td>\n",
              "    </tr>\n",
              "    <tr>\n",
              "      <th>249</th>\n",
              "      <td>218.92</td>\n",
              "    </tr>\n",
              "    <tr>\n",
              "      <th>250</th>\n",
              "      <td>218.92</td>\n",
              "    </tr>\n",
              "    <tr>\n",
              "      <th>251</th>\n",
              "      <td>218.92</td>\n",
              "    </tr>\n",
              "    <tr>\n",
              "      <th>252</th>\n",
              "      <td>218.92</td>\n",
              "    </tr>\n",
              "  </tbody>\n",
              "</table>\n",
              "<p>253 rows × 1 columns</p>\n",
              "</div><br><label><b>dtype:</b> float64</label>"
            ]
          },
          "metadata": {},
          "execution_count": 54
        }
      ]
    },
    {
      "cell_type": "code",
      "source": [
        "from sklearn.model_selection import train_test_split\n",
        "\n",
        "# Assuming `df` is your DataFrame with features and target\n",
        "X = df.drop(['Stock Price','Brand','Product Name','Country','Ram','Best in Tech'], axis=1)  # Features\n",
        "\n",
        "y = df['Stock Price']  # Target\n",
        "\n",
        "X_train, X_test, y_train, y_test = train_test_split(X, y, test_size=0.2, random_state=42)\n"
      ],
      "metadata": {
        "id": "m0VJW6bwu-Yw"
      },
      "execution_count": 55,
      "outputs": []
    },
    {
      "cell_type": "markdown",
      "source": [
        "The code snippet prepares the dataset for training a machine learning model. It splits the DataFrame df into features (X) and the target variable (y). Features are selected by dropping columns such as 'Stock Price', 'Brand', 'Product Name', 'Country', 'Ram', and 'Best in Tech', while the target variable is 'Stock Price'. The data is then divided into training and testing sets using an 80-20 split, with 20% of the data reserved for testing. This split is done to evaluate the model's performance on unseen data, ensuring a more accurate assessment of its predictive capabilities."
      ],
      "metadata": {
        "id": "GhdXJDCCGfvw"
      }
    },
    {
      "cell_type": "code",
      "source": [
        "df['Value for Money'] = df['Star Rating'] / df['Sale Price']\n"
      ],
      "metadata": {
        "id": "F0tzXMq6Al6X"
      },
      "execution_count": 56,
      "outputs": []
    },
    {
      "cell_type": "code",
      "source": [
        "import pandas as pd\n",
        "import yfinance as yf\n",
        "# Fetch the latest stock price for Apple\n",
        "apple = yf.Ticker('AAPL')\n",
        "latest_stock_price = apple.history(period='1d')['Close'].iloc[-1]\n",
        "\n",
        "# Add Stock Value to DataFrame\n",
        "df['Stock Value'] = latest_stock_price\n",
        "df['Stock Value']"
      ],
      "metadata": {
        "colab": {
          "base_uri": "https://localhost:8080/",
          "height": 458
        },
        "id": "t1f5P_gaBdkI",
        "outputId": "bec217cb-98d2-43e0-dccb-167d414db2e3"
      },
      "execution_count": 57,
      "outputs": [
        {
          "output_type": "execute_result",
          "data": {
            "text/plain": [
              "0      225.889999\n",
              "1      225.889999\n",
              "2      225.889999\n",
              "3      225.889999\n",
              "4      225.889999\n",
              "          ...    \n",
              "248    225.889999\n",
              "249    225.889999\n",
              "250    225.889999\n",
              "251    225.889999\n",
              "252    225.889999\n",
              "Name: Stock Value, Length: 253, dtype: float64"
            ],
            "text/html": [
              "<div>\n",
              "<style scoped>\n",
              "    .dataframe tbody tr th:only-of-type {\n",
              "        vertical-align: middle;\n",
              "    }\n",
              "\n",
              "    .dataframe tbody tr th {\n",
              "        vertical-align: top;\n",
              "    }\n",
              "\n",
              "    .dataframe thead th {\n",
              "        text-align: right;\n",
              "    }\n",
              "</style>\n",
              "<table border=\"1\" class=\"dataframe\">\n",
              "  <thead>\n",
              "    <tr style=\"text-align: right;\">\n",
              "      <th></th>\n",
              "      <th>Stock Value</th>\n",
              "    </tr>\n",
              "  </thead>\n",
              "  <tbody>\n",
              "    <tr>\n",
              "      <th>0</th>\n",
              "      <td>225.889999</td>\n",
              "    </tr>\n",
              "    <tr>\n",
              "      <th>1</th>\n",
              "      <td>225.889999</td>\n",
              "    </tr>\n",
              "    <tr>\n",
              "      <th>2</th>\n",
              "      <td>225.889999</td>\n",
              "    </tr>\n",
              "    <tr>\n",
              "      <th>3</th>\n",
              "      <td>225.889999</td>\n",
              "    </tr>\n",
              "    <tr>\n",
              "      <th>4</th>\n",
              "      <td>225.889999</td>\n",
              "    </tr>\n",
              "    <tr>\n",
              "      <th>...</th>\n",
              "      <td>...</td>\n",
              "    </tr>\n",
              "    <tr>\n",
              "      <th>248</th>\n",
              "      <td>225.889999</td>\n",
              "    </tr>\n",
              "    <tr>\n",
              "      <th>249</th>\n",
              "      <td>225.889999</td>\n",
              "    </tr>\n",
              "    <tr>\n",
              "      <th>250</th>\n",
              "      <td>225.889999</td>\n",
              "    </tr>\n",
              "    <tr>\n",
              "      <th>251</th>\n",
              "      <td>225.889999</td>\n",
              "    </tr>\n",
              "    <tr>\n",
              "      <th>252</th>\n",
              "      <td>225.889999</td>\n",
              "    </tr>\n",
              "  </tbody>\n",
              "</table>\n",
              "<p>253 rows × 1 columns</p>\n",
              "</div><br><label><b>dtype:</b> float64</label>"
            ]
          },
          "metadata": {},
          "execution_count": 57
        }
      ]
    },
    {
      "cell_type": "code",
      "source": [
        "df.to_excel('/content/drive/MyDrive/internship/encoded_sales_data.xlsx', index=False)"
      ],
      "metadata": {
        "id": "d-6lCZzFB3Eq"
      },
      "execution_count": 58,
      "outputs": []
    },
    {
      "cell_type": "code",
      "source": [
        "df.head()"
      ],
      "metadata": {
        "colab": {
          "base_uri": "https://localhost:8080/",
          "height": 672
        },
        "id": "kATKT4wY7ojv",
        "outputId": "9721f8c3-852a-46af-dc61-23815a4650a8"
      },
      "execution_count": 59,
      "outputs": [
        {
          "output_type": "execute_result",
          "data": {
            "text/plain": [
              "      Date  Stock Price        Open        High         Low       Close  \\\n",
              "0  45139.0       189.08  196.240005  196.729996  195.279999  195.610001   \n",
              "1  45140.0       189.08  195.039993  195.179993  191.850006  192.580002   \n",
              "2  45141.0       189.08  191.570007  192.369995  190.690002  191.169998   \n",
              "3  45142.0       189.08  185.520004  187.380005  181.919998  181.990005   \n",
              "4  45145.0       189.08  182.130005  183.130005  177.350006  178.850006   \n",
              "\n",
              "    Adj Close     Volume                              Product Name  \\\n",
              "0  194.576645   35175100         APPLE iPhone 8 Plus (Gold, 64 GB)   \n",
              "1  191.562653   50389300  APPLE iPhone 8 Plus (Space Grey, 256 GB)   \n",
              "2  190.160110   61235200      APPLE iPhone 8 Plus (Silver, 256 GB)   \n",
              "3  181.028610  115799700           APPLE iPhone 8 (Silver, 256 GB)   \n",
              "4  177.905182   97576100             APPLE iPhone 8 (Gold, 256 GB)   \n",
              "\n",
              "   Sale Price  ... Total number of people in use  Best in Tech  \\\n",
              "0     49900.0  ...                        3431.0           yes   \n",
              "1     84900.0  ...                        3431.0           yes   \n",
              "2     84900.0  ...                        3431.0           yes   \n",
              "3     77000.0  ...                       11202.0            no   \n",
              "4     77000.0  ...                       11202.0            no   \n",
              "\n",
              "  Total Sales since launch  Total Number of average stocks Bought     Cost  \\\n",
              "0                 35175100                             35175100.0  39920.0   \n",
              "1                 50389300                             50389300.0  67920.0   \n",
              "2                 61235200                             61235200.0  67920.0   \n",
              "3                115799700                            115799700.0  61600.0   \n",
              "4                 97576100                             97576100.0  61600.0   \n",
              "\n",
              "   Total Profits  Country Encoded  Best in Tech Encoded  Value for Money  \\\n",
              "0   3.510475e+11                3                     1         0.000092   \n",
              "1   8.556103e+11                3                     1         0.000054   \n",
              "2   1.039774e+12                3                     1         0.000054   \n",
              "3   1.783315e+12                3                     0         0.000058   \n",
              "4   1.502672e+12                3                     0         0.000058   \n",
              "\n",
              "  Stock Value  \n",
              "0  225.889999  \n",
              "1  225.889999  \n",
              "2  225.889999  \n",
              "3  225.889999  \n",
              "4  225.889999  \n",
              "\n",
              "[5 rows x 28 columns]"
            ],
            "text/html": [
              "\n",
              "  <div id=\"df-d08a2590-9034-4b87-8ebc-94ec80a6be67\" class=\"colab-df-container\">\n",
              "    <div>\n",
              "<style scoped>\n",
              "    .dataframe tbody tr th:only-of-type {\n",
              "        vertical-align: middle;\n",
              "    }\n",
              "\n",
              "    .dataframe tbody tr th {\n",
              "        vertical-align: top;\n",
              "    }\n",
              "\n",
              "    .dataframe thead th {\n",
              "        text-align: right;\n",
              "    }\n",
              "</style>\n",
              "<table border=\"1\" class=\"dataframe\">\n",
              "  <thead>\n",
              "    <tr style=\"text-align: right;\">\n",
              "      <th></th>\n",
              "      <th>Date</th>\n",
              "      <th>Stock Price</th>\n",
              "      <th>Open</th>\n",
              "      <th>High</th>\n",
              "      <th>Low</th>\n",
              "      <th>Close</th>\n",
              "      <th>Adj Close</th>\n",
              "      <th>Volume</th>\n",
              "      <th>Product Name</th>\n",
              "      <th>Sale Price</th>\n",
              "      <th>...</th>\n",
              "      <th>Total number of people in use</th>\n",
              "      <th>Best in Tech</th>\n",
              "      <th>Total Sales since launch</th>\n",
              "      <th>Total Number of average stocks Bought</th>\n",
              "      <th>Cost</th>\n",
              "      <th>Total Profits</th>\n",
              "      <th>Country Encoded</th>\n",
              "      <th>Best in Tech Encoded</th>\n",
              "      <th>Value for Money</th>\n",
              "      <th>Stock Value</th>\n",
              "    </tr>\n",
              "  </thead>\n",
              "  <tbody>\n",
              "    <tr>\n",
              "      <th>0</th>\n",
              "      <td>45139.0</td>\n",
              "      <td>189.08</td>\n",
              "      <td>196.240005</td>\n",
              "      <td>196.729996</td>\n",
              "      <td>195.279999</td>\n",
              "      <td>195.610001</td>\n",
              "      <td>194.576645</td>\n",
              "      <td>35175100</td>\n",
              "      <td>APPLE iPhone 8 Plus (Gold, 64 GB)</td>\n",
              "      <td>49900.0</td>\n",
              "      <td>...</td>\n",
              "      <td>3431.0</td>\n",
              "      <td>yes</td>\n",
              "      <td>35175100</td>\n",
              "      <td>35175100.0</td>\n",
              "      <td>39920.0</td>\n",
              "      <td>3.510475e+11</td>\n",
              "      <td>3</td>\n",
              "      <td>1</td>\n",
              "      <td>0.000092</td>\n",
              "      <td>225.889999</td>\n",
              "    </tr>\n",
              "    <tr>\n",
              "      <th>1</th>\n",
              "      <td>45140.0</td>\n",
              "      <td>189.08</td>\n",
              "      <td>195.039993</td>\n",
              "      <td>195.179993</td>\n",
              "      <td>191.850006</td>\n",
              "      <td>192.580002</td>\n",
              "      <td>191.562653</td>\n",
              "      <td>50389300</td>\n",
              "      <td>APPLE iPhone 8 Plus (Space Grey, 256 GB)</td>\n",
              "      <td>84900.0</td>\n",
              "      <td>...</td>\n",
              "      <td>3431.0</td>\n",
              "      <td>yes</td>\n",
              "      <td>50389300</td>\n",
              "      <td>50389300.0</td>\n",
              "      <td>67920.0</td>\n",
              "      <td>8.556103e+11</td>\n",
              "      <td>3</td>\n",
              "      <td>1</td>\n",
              "      <td>0.000054</td>\n",
              "      <td>225.889999</td>\n",
              "    </tr>\n",
              "    <tr>\n",
              "      <th>2</th>\n",
              "      <td>45141.0</td>\n",
              "      <td>189.08</td>\n",
              "      <td>191.570007</td>\n",
              "      <td>192.369995</td>\n",
              "      <td>190.690002</td>\n",
              "      <td>191.169998</td>\n",
              "      <td>190.160110</td>\n",
              "      <td>61235200</td>\n",
              "      <td>APPLE iPhone 8 Plus (Silver, 256 GB)</td>\n",
              "      <td>84900.0</td>\n",
              "      <td>...</td>\n",
              "      <td>3431.0</td>\n",
              "      <td>yes</td>\n",
              "      <td>61235200</td>\n",
              "      <td>61235200.0</td>\n",
              "      <td>67920.0</td>\n",
              "      <td>1.039774e+12</td>\n",
              "      <td>3</td>\n",
              "      <td>1</td>\n",
              "      <td>0.000054</td>\n",
              "      <td>225.889999</td>\n",
              "    </tr>\n",
              "    <tr>\n",
              "      <th>3</th>\n",
              "      <td>45142.0</td>\n",
              "      <td>189.08</td>\n",
              "      <td>185.520004</td>\n",
              "      <td>187.380005</td>\n",
              "      <td>181.919998</td>\n",
              "      <td>181.990005</td>\n",
              "      <td>181.028610</td>\n",
              "      <td>115799700</td>\n",
              "      <td>APPLE iPhone 8 (Silver, 256 GB)</td>\n",
              "      <td>77000.0</td>\n",
              "      <td>...</td>\n",
              "      <td>11202.0</td>\n",
              "      <td>no</td>\n",
              "      <td>115799700</td>\n",
              "      <td>115799700.0</td>\n",
              "      <td>61600.0</td>\n",
              "      <td>1.783315e+12</td>\n",
              "      <td>3</td>\n",
              "      <td>0</td>\n",
              "      <td>0.000058</td>\n",
              "      <td>225.889999</td>\n",
              "    </tr>\n",
              "    <tr>\n",
              "      <th>4</th>\n",
              "      <td>45145.0</td>\n",
              "      <td>189.08</td>\n",
              "      <td>182.130005</td>\n",
              "      <td>183.130005</td>\n",
              "      <td>177.350006</td>\n",
              "      <td>178.850006</td>\n",
              "      <td>177.905182</td>\n",
              "      <td>97576100</td>\n",
              "      <td>APPLE iPhone 8 (Gold, 256 GB)</td>\n",
              "      <td>77000.0</td>\n",
              "      <td>...</td>\n",
              "      <td>11202.0</td>\n",
              "      <td>no</td>\n",
              "      <td>97576100</td>\n",
              "      <td>97576100.0</td>\n",
              "      <td>61600.0</td>\n",
              "      <td>1.502672e+12</td>\n",
              "      <td>3</td>\n",
              "      <td>0</td>\n",
              "      <td>0.000058</td>\n",
              "      <td>225.889999</td>\n",
              "    </tr>\n",
              "  </tbody>\n",
              "</table>\n",
              "<p>5 rows × 28 columns</p>\n",
              "</div>\n",
              "    <div class=\"colab-df-buttons\">\n",
              "\n",
              "  <div class=\"colab-df-container\">\n",
              "    <button class=\"colab-df-convert\" onclick=\"convertToInteractive('df-d08a2590-9034-4b87-8ebc-94ec80a6be67')\"\n",
              "            title=\"Convert this dataframe to an interactive table.\"\n",
              "            style=\"display:none;\">\n",
              "\n",
              "  <svg xmlns=\"http://www.w3.org/2000/svg\" height=\"24px\" viewBox=\"0 -960 960 960\">\n",
              "    <path d=\"M120-120v-720h720v720H120Zm60-500h600v-160H180v160Zm220 220h160v-160H400v160Zm0 220h160v-160H400v160ZM180-400h160v-160H180v160Zm440 0h160v-160H620v160ZM180-180h160v-160H180v160Zm440 0h160v-160H620v160Z\"/>\n",
              "  </svg>\n",
              "    </button>\n",
              "\n",
              "  <style>\n",
              "    .colab-df-container {\n",
              "      display:flex;\n",
              "      gap: 12px;\n",
              "    }\n",
              "\n",
              "    .colab-df-convert {\n",
              "      background-color: #E8F0FE;\n",
              "      border: none;\n",
              "      border-radius: 50%;\n",
              "      cursor: pointer;\n",
              "      display: none;\n",
              "      fill: #1967D2;\n",
              "      height: 32px;\n",
              "      padding: 0 0 0 0;\n",
              "      width: 32px;\n",
              "    }\n",
              "\n",
              "    .colab-df-convert:hover {\n",
              "      background-color: #E2EBFA;\n",
              "      box-shadow: 0px 1px 2px rgba(60, 64, 67, 0.3), 0px 1px 3px 1px rgba(60, 64, 67, 0.15);\n",
              "      fill: #174EA6;\n",
              "    }\n",
              "\n",
              "    .colab-df-buttons div {\n",
              "      margin-bottom: 4px;\n",
              "    }\n",
              "\n",
              "    [theme=dark] .colab-df-convert {\n",
              "      background-color: #3B4455;\n",
              "      fill: #D2E3FC;\n",
              "    }\n",
              "\n",
              "    [theme=dark] .colab-df-convert:hover {\n",
              "      background-color: #434B5C;\n",
              "      box-shadow: 0px 1px 3px 1px rgba(0, 0, 0, 0.15);\n",
              "      filter: drop-shadow(0px 1px 2px rgba(0, 0, 0, 0.3));\n",
              "      fill: #FFFFFF;\n",
              "    }\n",
              "  </style>\n",
              "\n",
              "    <script>\n",
              "      const buttonEl =\n",
              "        document.querySelector('#df-d08a2590-9034-4b87-8ebc-94ec80a6be67 button.colab-df-convert');\n",
              "      buttonEl.style.display =\n",
              "        google.colab.kernel.accessAllowed ? 'block' : 'none';\n",
              "\n",
              "      async function convertToInteractive(key) {\n",
              "        const element = document.querySelector('#df-d08a2590-9034-4b87-8ebc-94ec80a6be67');\n",
              "        const dataTable =\n",
              "          await google.colab.kernel.invokeFunction('convertToInteractive',\n",
              "                                                    [key], {});\n",
              "        if (!dataTable) return;\n",
              "\n",
              "        const docLinkHtml = 'Like what you see? Visit the ' +\n",
              "          '<a target=\"_blank\" href=https://colab.research.google.com/notebooks/data_table.ipynb>data table notebook</a>'\n",
              "          + ' to learn more about interactive tables.';\n",
              "        element.innerHTML = '';\n",
              "        dataTable['output_type'] = 'display_data';\n",
              "        await google.colab.output.renderOutput(dataTable, element);\n",
              "        const docLink = document.createElement('div');\n",
              "        docLink.innerHTML = docLinkHtml;\n",
              "        element.appendChild(docLink);\n",
              "      }\n",
              "    </script>\n",
              "  </div>\n",
              "\n",
              "\n",
              "<div id=\"df-b0a9b8bd-fa85-49cd-8311-a014e6d1db93\">\n",
              "  <button class=\"colab-df-quickchart\" onclick=\"quickchart('df-b0a9b8bd-fa85-49cd-8311-a014e6d1db93')\"\n",
              "            title=\"Suggest charts\"\n",
              "            style=\"display:none;\">\n",
              "\n",
              "<svg xmlns=\"http://www.w3.org/2000/svg\" height=\"24px\"viewBox=\"0 0 24 24\"\n",
              "     width=\"24px\">\n",
              "    <g>\n",
              "        <path d=\"M19 3H5c-1.1 0-2 .9-2 2v14c0 1.1.9 2 2 2h14c1.1 0 2-.9 2-2V5c0-1.1-.9-2-2-2zM9 17H7v-7h2v7zm4 0h-2V7h2v10zm4 0h-2v-4h2v4z\"/>\n",
              "    </g>\n",
              "</svg>\n",
              "  </button>\n",
              "\n",
              "<style>\n",
              "  .colab-df-quickchart {\n",
              "      --bg-color: #E8F0FE;\n",
              "      --fill-color: #1967D2;\n",
              "      --hover-bg-color: #E2EBFA;\n",
              "      --hover-fill-color: #174EA6;\n",
              "      --disabled-fill-color: #AAA;\n",
              "      --disabled-bg-color: #DDD;\n",
              "  }\n",
              "\n",
              "  [theme=dark] .colab-df-quickchart {\n",
              "      --bg-color: #3B4455;\n",
              "      --fill-color: #D2E3FC;\n",
              "      --hover-bg-color: #434B5C;\n",
              "      --hover-fill-color: #FFFFFF;\n",
              "      --disabled-bg-color: #3B4455;\n",
              "      --disabled-fill-color: #666;\n",
              "  }\n",
              "\n",
              "  .colab-df-quickchart {\n",
              "    background-color: var(--bg-color);\n",
              "    border: none;\n",
              "    border-radius: 50%;\n",
              "    cursor: pointer;\n",
              "    display: none;\n",
              "    fill: var(--fill-color);\n",
              "    height: 32px;\n",
              "    padding: 0;\n",
              "    width: 32px;\n",
              "  }\n",
              "\n",
              "  .colab-df-quickchart:hover {\n",
              "    background-color: var(--hover-bg-color);\n",
              "    box-shadow: 0 1px 2px rgba(60, 64, 67, 0.3), 0 1px 3px 1px rgba(60, 64, 67, 0.15);\n",
              "    fill: var(--button-hover-fill-color);\n",
              "  }\n",
              "\n",
              "  .colab-df-quickchart-complete:disabled,\n",
              "  .colab-df-quickchart-complete:disabled:hover {\n",
              "    background-color: var(--disabled-bg-color);\n",
              "    fill: var(--disabled-fill-color);\n",
              "    box-shadow: none;\n",
              "  }\n",
              "\n",
              "  .colab-df-spinner {\n",
              "    border: 2px solid var(--fill-color);\n",
              "    border-color: transparent;\n",
              "    border-bottom-color: var(--fill-color);\n",
              "    animation:\n",
              "      spin 1s steps(1) infinite;\n",
              "  }\n",
              "\n",
              "  @keyframes spin {\n",
              "    0% {\n",
              "      border-color: transparent;\n",
              "      border-bottom-color: var(--fill-color);\n",
              "      border-left-color: var(--fill-color);\n",
              "    }\n",
              "    20% {\n",
              "      border-color: transparent;\n",
              "      border-left-color: var(--fill-color);\n",
              "      border-top-color: var(--fill-color);\n",
              "    }\n",
              "    30% {\n",
              "      border-color: transparent;\n",
              "      border-left-color: var(--fill-color);\n",
              "      border-top-color: var(--fill-color);\n",
              "      border-right-color: var(--fill-color);\n",
              "    }\n",
              "    40% {\n",
              "      border-color: transparent;\n",
              "      border-right-color: var(--fill-color);\n",
              "      border-top-color: var(--fill-color);\n",
              "    }\n",
              "    60% {\n",
              "      border-color: transparent;\n",
              "      border-right-color: var(--fill-color);\n",
              "    }\n",
              "    80% {\n",
              "      border-color: transparent;\n",
              "      border-right-color: var(--fill-color);\n",
              "      border-bottom-color: var(--fill-color);\n",
              "    }\n",
              "    90% {\n",
              "      border-color: transparent;\n",
              "      border-bottom-color: var(--fill-color);\n",
              "    }\n",
              "  }\n",
              "</style>\n",
              "\n",
              "  <script>\n",
              "    async function quickchart(key) {\n",
              "      const quickchartButtonEl =\n",
              "        document.querySelector('#' + key + ' button');\n",
              "      quickchartButtonEl.disabled = true;  // To prevent multiple clicks.\n",
              "      quickchartButtonEl.classList.add('colab-df-spinner');\n",
              "      try {\n",
              "        const charts = await google.colab.kernel.invokeFunction(\n",
              "            'suggestCharts', [key], {});\n",
              "      } catch (error) {\n",
              "        console.error('Error during call to suggestCharts:', error);\n",
              "      }\n",
              "      quickchartButtonEl.classList.remove('colab-df-spinner');\n",
              "      quickchartButtonEl.classList.add('colab-df-quickchart-complete');\n",
              "    }\n",
              "    (() => {\n",
              "      let quickchartButtonEl =\n",
              "        document.querySelector('#df-b0a9b8bd-fa85-49cd-8311-a014e6d1db93 button');\n",
              "      quickchartButtonEl.style.display =\n",
              "        google.colab.kernel.accessAllowed ? 'block' : 'none';\n",
              "    })();\n",
              "  </script>\n",
              "</div>\n",
              "\n",
              "    </div>\n",
              "  </div>\n"
            ],
            "application/vnd.google.colaboratory.intrinsic+json": {
              "type": "dataframe",
              "variable_name": "df"
            }
          },
          "metadata": {},
          "execution_count": 59
        }
      ]
    },
    {
      "cell_type": "code",
      "source": [
        "from sklearn.tree import DecisionTreeRegressor\n",
        "from sklearn.model_selection import train_test_split\n",
        "from sklearn.tree import DecisionTreeRegressor\n",
        "from sklearn.metrics import mean_absolute_error, mean_squared_error, r2_score\n",
        "\n",
        "# Initialize and train the model\n",
        "model = DecisionTreeRegressor()\n",
        "model.fit(X_train, y_train)\n",
        "\n",
        "# Make predictions\n",
        "y_pred = model.predict(X_test)\n",
        "\n",
        "# Evaluate the model\n",
        "print(\"Decision Tree Regressor:\")\n",
        "print(f\"Mean Absolute Error: {mean_absolute_error(y_test, y_pred)}\")\n",
        "print(f\"Mean Squared Error: {mean_squared_error(y_test, y_pred)}\")\n",
        "print(f\"R-squared Score: {r2_score(y_test, y_pred)}\")\n"
      ],
      "metadata": {
        "colab": {
          "base_uri": "https://localhost:8080/"
        },
        "id": "EHDlnWYr4-cH",
        "outputId": "204e7468-f385-41a2-8b44-44772d5451f8"
      },
      "execution_count": 60,
      "outputs": [
        {
          "output_type": "stream",
          "name": "stdout",
          "text": [
            "Decision Tree Regressor:\n",
            "Mean Absolute Error: 0.358039215686305\n",
            "Mean Squared Error: 3.268898039215703\n",
            "R-squared Score: 0.9848170217273347\n"
          ]
        }
      ]
    },
    {
      "cell_type": "code",
      "source": [],
      "metadata": {
        "id": "aJcRfODv8z73"
      },
      "execution_count": null,
      "outputs": []
    },
    {
      "cell_type": "code",
      "source": [
        "import pandas as pd\n",
        "import matplotlib.pyplot as plt\n",
        "import seaborn as sns\n",
        "from sklearn.model_selection import train_test_split\n",
        "from sklearn.metrics import mean_absolute_error, mean_squared_error, r2_score\n",
        "from sklearn.tree import DecisionTreeRegressor\n",
        "from sklearn.linear_model import LinearRegression\n",
        "from sklearn.ensemble import RandomForestRegressor\n",
        "from sklearn.svm import SVR\n",
        "\n",
        "# Initialize models\n",
        "models = {\n",
        "    'Decision T': DecisionTreeRegressor(),\n",
        "    'Linear R': LinearRegression(),\n",
        "    'Random F': RandomForestRegressor(),\n",
        "    'SVM': SVR()\n",
        "}\n",
        "\n",
        "# Dictionary to store the results\n",
        "results = {\n",
        "    'Model': [],\n",
        "    'MAE': [],\n",
        "    'MSE': [],\n",
        "    'R2': []\n",
        "}\n",
        "\n",
        "# Train and evaluate each model\n",
        "for model_name, model in models.items():\n",
        "    model.fit(X_train, y_train)\n",
        "    y_pred = model.predict(X_test)\n",
        "\n",
        "    results['Model'].append(model_name)\n",
        "    results['MAE'].append(mean_absolute_error(y_test, y_pred))\n",
        "    results['MSE'].append(mean_squared_error(y_test, y_pred))\n",
        "    results['R2'].append(r2_score(y_test, y_pred))\n",
        "\n",
        "# Convert results to DataFrame\n",
        "results_df = pd.DataFrame(results)\n"
      ],
      "metadata": {
        "id": "DpuaOpZiqU61"
      },
      "execution_count": 61,
      "outputs": []
    },
    {
      "cell_type": "markdown",
      "source": [
        "This visualization uses three side-by-side bar plots to compare model performance metrics—MAE, MSE, and R²—across different models. The bar plots provide a clear and intuitive way to assess how each model performs in terms of error and fit."
      ],
      "metadata": {
        "id": "jikt6b5n9yhH"
      }
    },
    {
      "cell_type": "code",
      "source": [
        "plt.figure(figsize=(14, 8))\n",
        "\n",
        "# MAE\n",
        "plt.subplot(1, 3, 1)\n",
        "sns.barplot(x='Model', y='MAE', data=results_df)\n",
        "plt.title('Mean Absolute Error (MAE)')\n",
        "\n",
        "# MSE\n",
        "plt.subplot(1, 3, 2)\n",
        "sns.barplot(x='Model', y='MSE', data=results_df)\n",
        "plt.title('Mean Squared Error (MSE)')\n",
        "\n",
        "# R2 Score\n",
        "plt.subplot(1, 3, 3)\n",
        "sns.barplot(x='Model', y='R2', data=results_df)\n",
        "plt.title('R-squared Score (R²)')\n",
        "\n",
        "plt.tight_layout()\n",
        "plt.show()\n"
      ],
      "metadata": {
        "colab": {
          "base_uri": "https://localhost:8080/",
          "height": 504
        },
        "id": "qHlwCBuRq188",
        "outputId": "70903a60-47cb-498a-a5d1-f40e4d1d2b7e"
      },
      "execution_count": 62,
      "outputs": [
        {
          "output_type": "display_data",
          "data": {
            "text/plain": [
              "<Figure size 1400x800 with 3 Axes>"
            ],
            "image/png": "[encoded data removed]"
          },
          "metadata": {}
        }
      ]
    },
    {
      "cell_type": "code",
      "source": [
        "plt.figure(figsize=(10, 6))\n",
        "\n",
        "# MAE Line Plot\n",
        "plt.plot(results_df['Model'], results_df['MAE'], marker='o', label='MAE')\n",
        "\n",
        "# MSE Line Plot\n",
        "plt.plot(results_df['Model'], results_df['MSE'], marker='o', label='MSE')\n",
        "\n",
        "# R2 Score Line Plot\n",
        "plt.plot(results_df['Model'], results_df['R2'], marker='o', label='R²')\n",
        "\n",
        "plt.title('Comparison of Models')\n",
        "plt.xlabel('Model')\n",
        "plt.ylabel('Score')\n",
        "plt.legend()\n",
        "plt.grid(True)\n",
        "plt.show()\n"
      ],
      "metadata": {
        "colab": {
          "base_uri": "https://localhost:8080/",
          "height": 564
        },
        "id": "pbA3oyhdrSkY",
        "outputId": "ad31cc2d-7c35-4a12-a47f-a2a836c75d73"
      },
      "execution_count": 63,
      "outputs": [
        {
          "output_type": "display_data",
          "data": {
            "text/plain": [
              "<Figure size 1000x600 with 1 Axes>"
            ],
            "image/png": "[encoded data removed]"
          },
          "metadata": {}
        }
      ]
    },
    {
      "cell_type": "markdown",
      "source": [
        "This line plot allows for an easy comparison of model performance metrics—MAE, MSE, and R²—across different models. The use of markers and lines helps in visually distinguishing the performance metrics, providing a clear picture of how each model fares in terms of accuracy and error."
      ],
      "metadata": {
        "id": "aD-maUDo9myT"
      }
    },
    {
      "cell_type": "code",
      "source": [
        "import numpy as np\n",
        "\n",
        "# Normalize the R² scores for better visualization\n",
        "results_df['R2_normalized'] = (results_df['R2'] - results_df['R2'].min()) / (results_df['R2'].max() - results_df['R2'].min())\n",
        "\n",
        "# Generate theta for spiral effect\n",
        "theta = np.linspace(0, 2 * np.pi * len(results_df), len(results_df))\n",
        "\n",
        "plt.figure(figsize=(8, 8))\n",
        "ax = plt.subplot(111, projection='polar')\n",
        "\n",
        "# Spiral plot\n",
        "ax.plot(theta, results_df['R2_normalized'], marker='o', label='R² Score')\n",
        "ax.fill(theta, results_df['R2_normalized'], alpha=0.3)\n",
        "\n",
        "ax.set_title('Spiral Chart of R² Scores')\n",
        "plt.legend()\n",
        "plt.show()\n"
      ],
      "metadata": {
        "colab": {
          "base_uri": "https://localhost:8080/",
          "height": 728
        },
        "id": "HBbSOfgkrX0e",
        "outputId": "8bb5bba7-e12c-431d-caca-4a82ff931cd0"
      },
      "execution_count": 64,
      "outputs": [
        {
          "output_type": "display_data",
          "data": {
            "text/plain": [
              "<Figure size 800x800 with 1 Axes>"
            ],
            "image/png": "[encoded data removed]"
          },
          "metadata": {}
        }
      ]
    },
    {
      "cell_type": "code",
      "source": [
        "# Normalize MAE for better comparison (in case you want to visualize the proportionate difference)\n",
        "results_df['MAE_normalized'] = (results_df['MAE'] - results_df['MAE'].min()) / (results_df['MAE'].max() - results_df['MAE'].min())\n",
        "\n",
        "plt.figure(figsize=(8, 8))\n",
        "\n",
        "# Pie chart for MAE\n",
        "plt.pie(results_df['MAE_normalized'], labels=results_df['Model'], autopct='%1.1f%%', startangle=140)\n",
        "plt.title('Pie Chart of MAE Distribution')\n",
        "plt.show()\n"
      ],
      "metadata": {
        "colab": {
          "base_uri": "https://localhost:8080/",
          "height": 675
        },
        "id": "0pfVvvzYtgxi",
        "outputId": "c86ad558-3d72-4319-9dd8-be4b237ffae0"
      },
      "execution_count": 65,
      "outputs": [
        {
          "output_type": "display_data",
          "data": {
            "text/plain": [
              "<Figure size 800x800 with 1 Axes>"
            ],
            "image/png": "[encoded data removed]"
          },
          "metadata": {}
        }
      ]
    },
    {
      "cell_type": "markdown",
      "source": [
        "Normalization of MAE allows for a clearer comparison of model performance. The pie chart provides a visual breakdown of the proportionate MAE distribution across different models, making it easier to compare their relative accuracy."
      ],
      "metadata": {
        "id": "IGcoH9VU9f88"
      }
    },
    {
      "cell_type": "code",
      "source": [
        "df['Date'] = pd.to_datetime(df['Date'])\n",
        "df = df.sort_values('Date')\n",
        "\n",
        "# Select relevant columns for time series forecasting\n",
        "data = df[['Date', 'Stock Price']].copy()"
      ],
      "metadata": {
        "id": "swAe0AJOxmDY"
      },
      "execution_count": 33,
      "outputs": []
    },
    {
      "cell_type": "code",
      "source": [
        "from sklearn.preprocessing import MinMaxScaler\n",
        "from tensorflow.keras.models import Sequential\n",
        "from tensorflow.keras.layers import LSTM, Dense, Dropout\n",
        "\n",
        "# Feature Scaling\n",
        "scaler = MinMaxScaler(feature_range=(0,1))\n",
        "scaled_data = scaler.fit_transform(data['Stock Price'].values.reshape(-1,1))\n",
        "\n",
        "\n",
        "# Creating a dataset with 60-day time steps\n",
        "look_back = 60\n",
        "X, y = [], []\n",
        "\n",
        "for i in range(look_back, len(scaled_data)):\n",
        "    X.append(scaled_data[i-look_back:i, 0])\n",
        "    y.append(scaled_data[i, 0])\n",
        "\n",
        "X, y = np.array(X), np.array(y)\n",
        "\n",
        "# Reshape data to match LSTM input\n",
        "X = np.reshape(X, (X.shape[0], X.shape[1], 1))\n",
        "\n",
        "# Building the LSTM Model\n",
        "model = Sequential()\n",
        "model.add(LSTM(units=50, return_sequences=True, input_shape=(X.shape[1], 1)))\n",
        "model.add(Dropout(0.2))\n",
        "model.add(LSTM(units=50, return_sequences=False))\n",
        "model.add(Dropout(0.2))\n",
        "model.add(Dense(units=25))\n",
        "model.add(Dense(units=1))\n",
        "\n",
        "# Compile and train the model\n",
        "model.compile(optimizer='adam', loss='mean_squared_error')\n",
        "model.fit(X, y, batch_size=32, epochs=50)\n",
        "\n",
        "# Preparing test data\n",
        "test_data = df[len(df) - len(y) - look_back:].copy()\n",
        "test_data_scaled = scaler.transform(test_data['Stock Price'].values.reshape(-1, 1))\n",
        "\n",
        "X_test = []\n",
        "y_test = df['Stock Price'].values[look_back + len(y):]\n",
        "\n",
        "for i in range(look_back, len(test_data_scaled)):\n",
        "    X_test.append(test_data_scaled[i-look_back:i, 0])\n",
        "\n",
        "X_test = np.array(X_test)\n",
        "X_test = np.reshape(X_test, (X_test.shape[0], X_test.shape[1], 1))\n",
        "\n",
        "# Predicting Stock Prices\n",
        "predictions = model.predict(X_test)\n",
        "predictions = scaler.inverse_transform(predictions)\n",
        "\n",
        "# Plotting the predictions\n",
        "plt.figure(figsize=(12, 6))\n",
        "plt.plot(daf['Date'], df['Stock Price'], label='Actual Stock Price')\n",
        "plt.plot(df['Date'][len(df) - len(y_test):], predictions, label='Predicted Stock Price')\n",
        "plt.xlabel('Date')\n",
        "plt.ylabel('Stock Price')\n",
        "plt.title('Stock Price Prediction')\n",
        "plt.legend()\n",
        "plt.show()"
      ],
      "metadata": {
        "id": "cmTHa2pFxzY0"
      },
      "execution_count": 39,
      "outputs": []
    },
    {
      "cell_type": "markdown",
      "source": [
        "The process effectively demonstrates how LSTM networks can be utilized for time series forecasting, particularly in predicting stock prices. The normalization of data ensures that the LSTM network operates efficiently, while the look-back period helps the model learn patterns from historical data. The model’s architecture, with its stacked LSTM layers and dropout regularization, is designed to capture complex temporal dependencies and reduce overfitting. The final visualization helps assess the model’s accuracy and predictive power by comparing the predicted values against actual stock prices, providing insight into the model's performance and practical utility in financial forecasting."
      ],
      "metadata": {
        "id": "ltVpukFl9YEu"
      }
    },
    {
      "cell_type": "markdown",
      "source": [],
      "metadata": {
        "id": "ycE772y_GSUF"
      }
    },
    {
      "cell_type": "code",
      "source": [
        "from sklearn.tree import DecisionTreeRegressor\n",
        "from sklearn.model_selection import train_test_split\n",
        "from sklearn.tree import DecisionTreeRegressor\n",
        "from sklearn.metrics import mean_absolute_error, mean_squared_error, r2_score\n",
        "\n",
        "# Initialize and train the model\n",
        "model = DecisionTreeRegressor()\n",
        "model.fit(X_train, y_train)\n",
        "\n",
        "# Make predictions\n",
        "y_pred = model.predict(X_test)\n",
        "\n",
        "# Evaluate the model\n",
        "print(\"Decision Tree Regressor:\")\n",
        "print(f\"Mean Absolute Error: {mean_absolute_error(y_test, y_pred)}\")\n",
        "print(f\"Mean Squared Error: {mean_squared_error(y_test, y_pred)}\")\n",
        "print(f\"R-squared Score: {r2_score(y_test, y_pred)}\")\n"
      ],
      "metadata": {
        "colab": {
          "base_uri": "https://localhost:8080/"
        },
        "id": "MaiUIW2U81nl",
        "outputId": "28b75f41-f773-43bb-ebbe-c5dd4e2aa4ce"
      },
      "execution_count": 66,
      "outputs": [
        {
          "output_type": "stream",
          "name": "stdout",
          "text": [
            "Decision Tree Regressor:\n",
            "Mean Absolute Error: 0.4292156862745374\n",
            "Mean Squared Error: 3.527268627450989\n",
            "R-squared Score: 0.9836169735825435\n"
          ]
        }
      ]
    },
    {
      "cell_type": "markdown",
      "source": [
        "The code trains a Decision Tree Regressor model to predict stock prices. It starts by fitting the model with training data, then uses it to make predictions on test data. The model's performance is evaluated using three metrics: Mean Absolute Error (MAE), which measures the average magnitude of errors; Mean Squared Error (MSE), which penalizes larger errors more heavily; and R-squared score, which indicates how well the model explains the variance in stock prices. These metrics help assess the model's accuracy and effectiveness in predicting stock prices.\n",
        "\n",
        "\n",
        "\n",
        "\n",
        "\n",
        "\n"
      ],
      "metadata": {
        "id": "Qldwi32u9BdH"
      }
    },
    {
      "cell_type": "markdown",
      "source": [
        "In the tasks over Week 1 and Week 2, I applied the Decision Tree algorithm to predict stock market trends for Apple and Samsung. The process involved preparing a detailed dataset, cleaning it by removing duplicates, and training the Decision Tree model. I evaluated the model's performance using accuracy metrics such as Mean Absolute Error (MAE), Mean Squared Error (MSE), and R-squared score. During Week 2, I visualized the model's performance alongside other algorithms using various charts, including pie charts, line plots, and bar plots. Additionally, I learned about parameter tuning for the Decision Tree, such as adjusting the depth of the tree and the minimum samples per leaf, to optimize its performance and accuracy. These tasks provided valuable insights into how different features influence predictions and how to effectively evaluate and tune machine learning models."
      ],
      "metadata": {
        "id": "6May0PD0ZcJ2"
      }
    }
  ]
}