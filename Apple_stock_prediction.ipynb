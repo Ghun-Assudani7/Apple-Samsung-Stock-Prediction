{
  "nbformat": 4,
  "nbformat_minor": 0,
  "metadata": {
    "colab": {
      "provenance": []
    },
    "kernelspec": {
      "name": "python3",
      "display_name": "Python 3"
    },
    "language_info": {
      "name": "python"
    }
  },
  "cells": [
    {
      "cell_type": "code",
      "source": [
        "from google.colab import drive\n",
        "drive.mount('/content/drive')"
      ],
      "metadata": {
        "colab": {
          "base_uri": "https://localhost:8080/"
        },
        "id": "b5PocZxO3j97",
        "outputId": "d26b1dfb-c5f5-4e8a-c5ef-d949c3398213"
      },
      "execution_count": 32,
      "outputs": [
        {
          "output_type": "stream",
          "name": "stdout",
          "text": [
            "Drive already mounted at /content/drive; to attempt to forcibly remount, call drive.mount(\"/content/drive\", force_remount=True).\n"
          ]
        }
      ]
    },
    {
      "cell_type": "markdown",
      "source": [
        "Apple Stock market Prediction"
      ],
      "metadata": {
        "id": "hlVGQsicGj6G"
      }
    },
    {
      "cell_type": "code",
      "source": [
        "import pandas as pd\n",
        "# Load your Excel file\n",
        "df = pd.read_excel('/content/drive/MyDrive/internship/task 1 dataset3.xlsx')"
      ],
      "metadata": {
        "id": "3loTz-tB6tft"
      },
      "execution_count": 400,
      "outputs": []
    },
    {
      "cell_type": "markdown",
      "source": [],
      "metadata": {
        "id": "qe8xIYIJGjO4"
      }
    },
    {
      "cell_type": "code",
      "source": [
        "# Get the shape of the DataFrame\n",
        "print(\"DataFrame Shape:\")\n",
        "print(df.shape)  # Outputs: (number_of_rows, number_of_columns)\n",
        "\n",
        "# Get descriptive statistics of the DataFrame\n",
        "print(\"\\nDescriptive Statistics:\")\n",
        "print(df.describe())  # Outputs statistical summary of numerical columns\n"
      ],
      "metadata": {
        "colab": {
          "base_uri": "https://localhost:8080/"
        },
        "id": "nttdZ0fXD4A4",
        "outputId": "2a850614-97bb-4bca-c605-39b3e156f3db"
      },
      "execution_count": 401,
      "outputs": [
        {
          "output_type": "stream",
          "name": "stdout",
          "text": [
            "DataFrame Shape:\n",
            "(253, 19)\n",
            "\n",
            "Descriptive Statistics:\n",
            "               Date        Open        High         Low       Close  \\\n",
            "count    252.000000  253.000000  253.000000  253.000000  253.000000   \n",
            "mean   45320.527778  187.075494  188.698382  185.469842  187.099185   \n",
            "std      106.497046   15.948873   16.100312   15.552636   15.820642   \n",
            "min    45139.000000  165.350006  166.399994  164.080002  165.000000   \n",
            "25%    45228.250000  175.309998  177.080002  173.740005  175.460007   \n",
            "50%    45321.500000  183.919998  185.149994  182.110001  184.119995   \n",
            "75%    45412.250000  192.899994  194.399994  191.720001  192.580002   \n",
            "max    45504.000000  236.479996  237.229996  233.089996  234.820007   \n",
            "\n",
            "        Adj Close        Volume     Sale Price            Mrp  \\\n",
            "count  253.000000  2.530000e+02      62.000000      62.000000   \n",
            "mean   186.712551  6.033252e+07   80073.887097   88058.064516   \n",
            "std     15.959572  2.467556e+07   34310.446132   34728.825597   \n",
            "min    164.776505  2.404830e+07   29999.000000   39900.000000   \n",
            "25%    174.802902  4.714560e+07   49900.000000   54900.000000   \n",
            "50%    183.610962  5.379050e+07   75900.000000   79900.000000   \n",
            "75%    192.350006  6.603460e+07  117100.000000  120950.000000   \n",
            "max    234.820007  2.464214e+08  140900.000000  149900.000000   \n",
            "\n",
            "       Discount Percentage  Number Of Ratings  Number Of Reviews  Unnamed: 16  \\\n",
            "count            62.000000          62.000000          62.000000          0.0   \n",
            "mean              9.951613       22420.403226        1861.677419          NaN   \n",
            "std               7.608079       33768.589550        2855.883830          NaN   \n",
            "min               0.000000         542.000000          42.000000          NaN   \n",
            "25%               6.000000         740.000000          64.000000          NaN   \n",
            "50%              10.000000        2101.000000         180.000000          NaN   \n",
            "75%              14.000000       43470.000000        3331.000000          NaN   \n",
            "max              29.000000       95909.000000        8161.000000          NaN   \n",
            "\n",
            "       Star Rating  \n",
            "count    62.000000  \n",
            "mean      4.575806  \n",
            "std       0.059190  \n",
            "min       4.500000  \n",
            "25%       4.500000  \n",
            "50%       4.600000  \n",
            "75%       4.600000  \n",
            "max       4.700000  \n"
          ]
        }
      ]
    },
    {
      "cell_type": "code",
      "source": [
        "# Inspect the data\n",
        "print(\"Initial Data:\")\n",
        "print(df.head())\n",
        "\n",
        "# Check for missing values\n",
        "print(\"\\nMissing Values:\")\n",
        "print(df.isnull().sum())\n"
      ],
      "metadata": {
        "colab": {
          "base_uri": "https://localhost:8080/"
        },
        "id": "ZQugfFZJ7dpx",
        "outputId": "7c31d60d-91d7-46a1-cf28-58c403ee954a"
      },
      "execution_count": 402,
      "outputs": [
        {
          "output_type": "stream",
          "name": "stdout",
          "text": [
            "Initial Data:\n",
            "      Date Stock Price        Open        High         Low       Close  \\\n",
            "0  45139.0     $189.08  196.240005  196.729996  195.279999  195.610001   \n",
            "1  45140.0     $189.08  195.039993  195.179993  191.850006  192.580002   \n",
            "2  45141.0     $189.08  191.570007  192.369995  190.690002  191.169998   \n",
            "3  45142.0     $189.08  185.520004  187.380005  181.919998  181.990005   \n",
            "4  45145.0     $189.08  182.130005  183.130005  177.350006  178.850006   \n",
            "\n",
            "    Adj Close     Volume                              Product Name  \\\n",
            "0  194.576645   35175100         APPLE iPhone 8 Plus (Gold, 64 GB)   \n",
            "1  191.562653   50389300  APPLE iPhone 8 Plus (Space Grey, 256 GB)   \n",
            "2  190.160110   61235200      APPLE iPhone 8 Plus (Silver, 256 GB)   \n",
            "3  181.028610  115799700           APPLE iPhone 8 (Silver, 256 GB)   \n",
            "4  177.905182   97576100             APPLE iPhone 8 (Gold, 256 GB)   \n",
            "\n",
            "   Sale Price Country      Mrp  Brand  Discount Percentage  Number Of Ratings  \\\n",
            "0     49900.0     USA  49900.0  Apple                  0.0             3431.0   \n",
            "1     84900.0     USA  84900.0  Apple                  0.0             3431.0   \n",
            "2     84900.0     USA  84900.0  Apple                  0.0             3431.0   \n",
            "3     77000.0     USA  77000.0  Apple                  0.0            11202.0   \n",
            "4     77000.0     USA  77000.0  Apple                  0.0            11202.0   \n",
            "\n",
            "   Number Of Reviews  Unnamed: 16  Star Rating   Ram  \n",
            "0              356.0          NaN          4.6  2 GB  \n",
            "1              356.0          NaN          4.6  2 GB  \n",
            "2              356.0          NaN          4.6  2 GB  \n",
            "3              794.0          NaN          4.5  2 GB  \n",
            "4              794.0          NaN          4.5  2 GB  \n",
            "\n",
            "Missing Values:\n",
            "Date                     1\n",
            "Stock Price              1\n",
            "Open                     0\n",
            "High                     0\n",
            "Low                      0\n",
            "Close                    0\n",
            "Adj Close                0\n",
            "Volume                   0\n",
            "Product Name           191\n",
            "Sale Price             191\n",
            "Country                  0\n",
            "Mrp                    191\n",
            "Brand                  191\n",
            "Discount Percentage    191\n",
            "Number Of Ratings      191\n",
            "Number Of Reviews      191\n",
            "Unnamed: 16            253\n",
            "Star Rating            191\n",
            "Ram                    191\n",
            "dtype: int64\n"
          ]
        }
      ]
    },
    {
      "cell_type": "markdown",
      "source": [
        "# Display the first few rows of the dataset to get an overview of the data and check missing values."
      ],
      "metadata": {
        "id": "L1mkSel8EMPt"
      }
    },
    {
      "cell_type": "code",
      "source": [
        "df.fillna({\n",
        "    'Sale Price':df['Sale Price'].mean(),\n",
        "    'Mrp': df['Mrp'].mean(),\n",
        "    'Discount Percentage': df['Discount Percentage'].mean(),\n",
        "    'Number Of Ratings': df['Number Of Ratings'].mean(),\n",
        "    'Number Of Reviews': df['Number Of Reviews'].mean(),\n",
        "    'Star Rating': df['Star Rating'].mean(),\n",
        "    'Ram': df['Ram'].mode()[0]  # Fill missing RAM values with the most frequent value\n",
        "}, inplace=True)\n",
        "# Drop specified columns\n",
        "df.drop(columns=['Unnamed: 16'], inplace=True)\n",
        "# Fill 'Brand' column with 'Apple'\n",
        "df['Brand'] = 'Apple'\n",
        "# Handle missing values in 'Product Name'\n",
        "# Filling missing 'Product Name' with a placeholder or most frequent value\n",
        "most_frequent_product_name = df['Product Name'].mode()[0]\n",
        "df['Product Name'].fillna(most_frequent_product_name, inplace=True)\n",
        "df['Date'].fillna(method='ffill', inplace=True)\n",
        "df['Stock Price'].fillna(method='ffill', inplace=True)"
      ],
      "metadata": {
        "colab": {
          "base_uri": "https://localhost:8080/"
        },
        "id": "8t6KV8Rn8jjl",
        "outputId": "c6031af2-97a4-468c-c2e3-f93b9d8e1352"
      },
      "execution_count": 403,
      "outputs": [
        {
          "output_type": "stream",
          "name": "stderr",
          "text": [
            "<ipython-input-403-dcccde4d2303>:18: FutureWarning: Series.fillna with 'method' is deprecated and will raise in a future version. Use obj.ffill() or obj.bfill() instead.\n",
            "  df['Date'].fillna(method='ffill', inplace=True)\n",
            "<ipython-input-403-dcccde4d2303>:19: FutureWarning: Series.fillna with 'method' is deprecated and will raise in a future version. Use obj.ffill() or obj.bfill() instead.\n",
            "  df['Stock Price'].fillna(method='ffill', inplace=True)\n"
          ]
        }
      ]
    },
    {
      "cell_type": "markdown",
      "source": [
        "The code provided performs several data cleaning and preprocessing steps on a DataFrame. First, it addresses missing values by filling them with statistical measures: the mean values are used for numerical columns such as 'Sale Price', 'Mrp', 'Discount Percentage', 'Number Of Ratings', 'Number Of Reviews', and 'Star Rating', while the most frequent value (mode) is used to fill missing entries in the 'Ram' column. It then drops the 'Unnamed: 16' column, which is deemed unnecessary for further analysis. The 'Brand' column is updated to 'Apple' for all rows, assuming the dataset exclusively pertains to Apple products. For the 'Product Name' column, any missing values are replaced with the most frequent product name. Finally, the code handles missing values in the 'Date' and 'Stock Price' columns by using forward fill (method='ffill'), which propagates the last valid observation forward to fill in gaps. These steps ensure that the dataset is complete and ready for analysis or modeling.\n",
        "\n"
      ],
      "metadata": {
        "id": "Y3uk0ynvErCJ"
      }
    },
    {
      "cell_type": "code",
      "source": [
        "print(df.isnull().sum())"
      ],
      "metadata": {
        "colab": {
          "base_uri": "https://localhost:8080/"
        },
        "id": "3XdG9Bnq9JiU",
        "outputId": "f6721362-d7bb-4da6-9c5d-f049f9643132"
      },
      "execution_count": 404,
      "outputs": [
        {
          "output_type": "stream",
          "name": "stdout",
          "text": [
            "Date                   0\n",
            "Stock Price            0\n",
            "Open                   0\n",
            "High                   0\n",
            "Low                    0\n",
            "Close                  0\n",
            "Adj Close              0\n",
            "Volume                 0\n",
            "Product Name           0\n",
            "Sale Price             0\n",
            "Country                0\n",
            "Mrp                    0\n",
            "Brand                  0\n",
            "Discount Percentage    0\n",
            "Number Of Ratings      0\n",
            "Number Of Reviews      0\n",
            "Star Rating            0\n",
            "Ram                    0\n",
            "dtype: int64\n"
          ]
        }
      ]
    },
    {
      "cell_type": "code",
      "source": [
        "# Inspect cleaned data\n",
        "print(\"\\nCleaned Data:\")\n",
        "print(df.head())\n"
      ],
      "metadata": {
        "colab": {
          "base_uri": "https://localhost:8080/"
        },
        "id": "lprR4cXa-XkX",
        "outputId": "4da2f92f-9a97-4abb-b98c-24edcebddc47"
      },
      "execution_count": 405,
      "outputs": [
        {
          "output_type": "stream",
          "name": "stdout",
          "text": [
            "\n",
            "Cleaned Data:\n",
            "      Date Stock Price        Open        High         Low       Close  \\\n",
            "0  45139.0     $189.08  196.240005  196.729996  195.279999  195.610001   \n",
            "1  45140.0     $189.08  195.039993  195.179993  191.850006  192.580002   \n",
            "2  45141.0     $189.08  191.570007  192.369995  190.690002  191.169998   \n",
            "3  45142.0     $189.08  185.520004  187.380005  181.919998  181.990005   \n",
            "4  45145.0     $189.08  182.130005  183.130005  177.350006  178.850006   \n",
            "\n",
            "    Adj Close     Volume                              Product Name  \\\n",
            "0  194.576645   35175100         APPLE iPhone 8 Plus (Gold, 64 GB)   \n",
            "1  191.562653   50389300  APPLE iPhone 8 Plus (Space Grey, 256 GB)   \n",
            "2  190.160110   61235200      APPLE iPhone 8 Plus (Silver, 256 GB)   \n",
            "3  181.028610  115799700           APPLE iPhone 8 (Silver, 256 GB)   \n",
            "4  177.905182   97576100             APPLE iPhone 8 (Gold, 256 GB)   \n",
            "\n",
            "   Sale Price Country      Mrp  Brand  Discount Percentage  Number Of Ratings  \\\n",
            "0     49900.0     USA  49900.0  Apple                  0.0             3431.0   \n",
            "1     84900.0     USA  84900.0  Apple                  0.0             3431.0   \n",
            "2     84900.0     USA  84900.0  Apple                  0.0             3431.0   \n",
            "3     77000.0     USA  77000.0  Apple                  0.0            11202.0   \n",
            "4     77000.0     USA  77000.0  Apple                  0.0            11202.0   \n",
            "\n",
            "   Number Of Reviews  Star Rating   Ram  \n",
            "0              356.0          4.6  2 GB  \n",
            "1              356.0          4.6  2 GB  \n",
            "2              356.0          4.6  2 GB  \n",
            "3              794.0          4.5  2 GB  \n",
            "4              794.0          4.5  2 GB  \n"
          ]
        }
      ]
    },
    {
      "cell_type": "code",
      "source": [
        "print(df.dtypes)\n",
        "# Convert columns to numeric, errors='coerce' will convert invalid parsing to NaN\n",
        "df['Sale Price'] = pd.to_numeric(df['Sale Price'], errors='coerce')\n",
        "df['Mrp'] = pd.to_numeric(df['Mrp'], errors='coerce')\n",
        "df['Volume'] = pd.to_numeric(df['Volume'], errors='coerce')\n"
      ],
      "metadata": {
        "colab": {
          "base_uri": "https://localhost:8080/"
        },
        "id": "lGis2Y6tFWTV",
        "outputId": "9e002c0f-fbc4-4d4d-ede6-099276fda872"
      },
      "execution_count": 406,
      "outputs": [
        {
          "output_type": "stream",
          "name": "stdout",
          "text": [
            "Date                   float64\n",
            "Stock Price             object\n",
            "Open                   float64\n",
            "High                   float64\n",
            "Low                    float64\n",
            "Close                  float64\n",
            "Adj Close              float64\n",
            "Volume                   int64\n",
            "Product Name            object\n",
            "Sale Price             float64\n",
            "Country                 object\n",
            "Mrp                    float64\n",
            "Brand                   object\n",
            "Discount Percentage    float64\n",
            "Number Of Ratings      float64\n",
            "Number Of Reviews      float64\n",
            "Star Rating            float64\n",
            "Ram                     object\n",
            "dtype: object\n"
          ]
        }
      ]
    },
    {
      "cell_type": "code",
      "source": [
        "# Total Number of People in Use: Using Number Of Ratings\n",
        "df['Total number of people in use'] = df['Number Of Ratings']\n",
        "\n",
        "# Best in Tech: Assume 'Yes' if Star Rating > 4.5\n",
        "df['Best in Tech'] = df['Star Rating'].apply(lambda x: 'Yes' if x > 4.5 else 'No')\n",
        "\n",
        "# Total Sales Since Launch: Cumulative sum of Volume\n",
        "df['Total Sales since launch'] = df.groupby('Product Name')['Volume'].cumsum()\n",
        "\n",
        "# Total Number of Average Stocks Bought\n",
        "df['Total Number of average stocks Bought'] = df.groupby('Product Name')['Volume'].transform('mean')"
      ],
      "metadata": {
        "id": "NsOJFLhkFnS_"
      },
      "execution_count": 407,
      "outputs": []
    },
    {
      "cell_type": "markdown",
      "source": [
        "The code snippet performs several important calculations to enrich the dataset. First, it calculates the Total Number of People in Use by directly assigning the 'Number Of Ratings' to this attribute, assuming that the number of ratings reflects the number of people using the product. Next, it determines whether a product is classified as Best in Tech by evaluating the 'Star Rating'; if the rating exceeds 4.5, the product is labeled as 'Yes', otherwise 'No'. To track sales performance, the Total Sales Since Launch is computed by accumulating the 'Volume' of sales for each product over time using a cumulative sum function, which provides a running total of sales for each product. Lastly, the Total Number of Average Stocks Bought is calculated as the average 'Volume' of sales per product, obtained by grouping the data by 'Product Name' and applying a mean transformation. These calculations provide valuable insights and features that can be used for further analysis or predictive modeling."
      ],
      "metadata": {
        "id": "qZ7V0UIvFnKr"
      }
    },
    {
      "cell_type": "code",
      "source": [
        "# Total Profits: (Sale Price - Cost) * Volume\n",
        "df['Cost'] = df['Mrp'] * 0.8\n",
        "df['Total Profits'] = (df['Sale Price'] - df['Cost']) * df['Volume']"
      ],
      "metadata": {
        "id": "bscdfxd9-kJi"
      },
      "execution_count": 408,
      "outputs": []
    },
    {
      "cell_type": "code",
      "source": [
        "# Inspect cleaned and processed data\n",
        "print(\"\\nCleaned and Processed Data:\")\n",
        "print(df.head())\n"
      ],
      "metadata": {
        "colab": {
          "base_uri": "https://localhost:8080/"
        },
        "id": "lIcsj_xcGBR2",
        "outputId": "9aeafa53-27f3-48c0-dd6e-cb87083eb00f"
      },
      "execution_count": 409,
      "outputs": [
        {
          "output_type": "stream",
          "name": "stdout",
          "text": [
            "\n",
            "Cleaned and Processed Data:\n",
            "      Date Stock Price        Open        High         Low       Close  \\\n",
            "0  45139.0     $189.08  196.240005  196.729996  195.279999  195.610001   \n",
            "1  45140.0     $189.08  195.039993  195.179993  191.850006  192.580002   \n",
            "2  45141.0     $189.08  191.570007  192.369995  190.690002  191.169998   \n",
            "3  45142.0     $189.08  185.520004  187.380005  181.919998  181.990005   \n",
            "4  45145.0     $189.08  182.130005  183.130005  177.350006  178.850006   \n",
            "\n",
            "    Adj Close     Volume                              Product Name  \\\n",
            "0  194.576645   35175100         APPLE iPhone 8 Plus (Gold, 64 GB)   \n",
            "1  191.562653   50389300  APPLE iPhone 8 Plus (Space Grey, 256 GB)   \n",
            "2  190.160110   61235200      APPLE iPhone 8 Plus (Silver, 256 GB)   \n",
            "3  181.028610  115799700           APPLE iPhone 8 (Silver, 256 GB)   \n",
            "4  177.905182   97576100             APPLE iPhone 8 (Gold, 256 GB)   \n",
            "\n",
            "   Sale Price  ... Number Of Ratings  Number Of Reviews Star Rating   Ram  \\\n",
            "0     49900.0  ...            3431.0              356.0         4.6  2 GB   \n",
            "1     84900.0  ...            3431.0              356.0         4.6  2 GB   \n",
            "2     84900.0  ...            3431.0              356.0         4.6  2 GB   \n",
            "3     77000.0  ...           11202.0              794.0         4.5  2 GB   \n",
            "4     77000.0  ...           11202.0              794.0         4.5  2 GB   \n",
            "\n",
            "   Total number of people in use  Best in Tech  Total Sales since launch  \\\n",
            "0                         3431.0           Yes                  35175100   \n",
            "1                         3431.0           Yes                  50389300   \n",
            "2                         3431.0           Yes                  61235200   \n",
            "3                        11202.0            No                 115799700   \n",
            "4                        11202.0            No                  97576100   \n",
            "\n",
            "  Total Number of average stocks Bought     Cost Total Profits  \n",
            "0                            35175100.0  39920.0  3.510475e+11  \n",
            "1                            50389300.0  67920.0  8.556103e+11  \n",
            "2                            61235200.0  67920.0  1.039774e+12  \n",
            "3                           115799700.0  61600.0  1.783315e+12  \n",
            "4                            97576100.0  61600.0  1.502672e+12  \n",
            "\n",
            "[5 rows x 24 columns]\n"
          ]
        }
      ]
    },
    {
      "cell_type": "code",
      "source": [
        "print(df.head())\n",
        "df.dtypes"
      ],
      "metadata": {
        "colab": {
          "base_uri": "https://localhost:8080/",
          "height": 1000
        },
        "id": "UanMLtN_uY0q",
        "outputId": "4b7710ec-8b86-4d97-c337-f3ce5ecf73dc"
      },
      "execution_count": 410,
      "outputs": [
        {
          "output_type": "stream",
          "name": "stdout",
          "text": [
            "      Date Stock Price        Open        High         Low       Close  \\\n",
            "0  45139.0     $189.08  196.240005  196.729996  195.279999  195.610001   \n",
            "1  45140.0     $189.08  195.039993  195.179993  191.850006  192.580002   \n",
            "2  45141.0     $189.08  191.570007  192.369995  190.690002  191.169998   \n",
            "3  45142.0     $189.08  185.520004  187.380005  181.919998  181.990005   \n",
            "4  45145.0     $189.08  182.130005  183.130005  177.350006  178.850006   \n",
            "\n",
            "    Adj Close     Volume                              Product Name  \\\n",
            "0  194.576645   35175100         APPLE iPhone 8 Plus (Gold, 64 GB)   \n",
            "1  191.562653   50389300  APPLE iPhone 8 Plus (Space Grey, 256 GB)   \n",
            "2  190.160110   61235200      APPLE iPhone 8 Plus (Silver, 256 GB)   \n",
            "3  181.028610  115799700           APPLE iPhone 8 (Silver, 256 GB)   \n",
            "4  177.905182   97576100             APPLE iPhone 8 (Gold, 256 GB)   \n",
            "\n",
            "   Sale Price  ... Number Of Ratings  Number Of Reviews Star Rating   Ram  \\\n",
            "0     49900.0  ...            3431.0              356.0         4.6  2 GB   \n",
            "1     84900.0  ...            3431.0              356.0         4.6  2 GB   \n",
            "2     84900.0  ...            3431.0              356.0         4.6  2 GB   \n",
            "3     77000.0  ...           11202.0              794.0         4.5  2 GB   \n",
            "4     77000.0  ...           11202.0              794.0         4.5  2 GB   \n",
            "\n",
            "   Total number of people in use  Best in Tech  Total Sales since launch  \\\n",
            "0                         3431.0           Yes                  35175100   \n",
            "1                         3431.0           Yes                  50389300   \n",
            "2                         3431.0           Yes                  61235200   \n",
            "3                        11202.0            No                 115799700   \n",
            "4                        11202.0            No                  97576100   \n",
            "\n",
            "  Total Number of average stocks Bought     Cost Total Profits  \n",
            "0                            35175100.0  39920.0  3.510475e+11  \n",
            "1                            50389300.0  67920.0  8.556103e+11  \n",
            "2                            61235200.0  67920.0  1.039774e+12  \n",
            "3                           115799700.0  61600.0  1.783315e+12  \n",
            "4                            97576100.0  61600.0  1.502672e+12  \n",
            "\n",
            "[5 rows x 24 columns]\n"
          ]
        },
        {
          "output_type": "execute_result",
          "data": {
            "text/plain": [
              "Date                                     float64\n",
              "Stock Price                               object\n",
              "Open                                     float64\n",
              "High                                     float64\n",
              "Low                                      float64\n",
              "Close                                    float64\n",
              "Adj Close                                float64\n",
              "Volume                                     int64\n",
              "Product Name                              object\n",
              "Sale Price                               float64\n",
              "Country                                   object\n",
              "Mrp                                      float64\n",
              "Brand                                     object\n",
              "Discount Percentage                      float64\n",
              "Number Of Ratings                        float64\n",
              "Number Of Reviews                        float64\n",
              "Star Rating                              float64\n",
              "Ram                                       object\n",
              "Total number of people in use            float64\n",
              "Best in Tech                              object\n",
              "Total Sales since launch                   int64\n",
              "Total Number of average stocks Bought    float64\n",
              "Cost                                     float64\n",
              "Total Profits                            float64\n",
              "dtype: object"
            ],
            "text/html": [
              "<div>\n",
              "<style scoped>\n",
              "    .dataframe tbody tr th:only-of-type {\n",
              "        vertical-align: middle;\n",
              "    }\n",
              "\n",
              "    .dataframe tbody tr th {\n",
              "        vertical-align: top;\n",
              "    }\n",
              "\n",
              "    .dataframe thead th {\n",
              "        text-align: right;\n",
              "    }\n",
              "</style>\n",
              "<table border=\"1\" class=\"dataframe\">\n",
              "  <thead>\n",
              "    <tr style=\"text-align: right;\">\n",
              "      <th></th>\n",
              "      <th>0</th>\n",
              "    </tr>\n",
              "  </thead>\n",
              "  <tbody>\n",
              "    <tr>\n",
              "      <th>Date</th>\n",
              "      <td>float64</td>\n",
              "    </tr>\n",
              "    <tr>\n",
              "      <th>Stock Price</th>\n",
              "      <td>object</td>\n",
              "    </tr>\n",
              "    <tr>\n",
              "      <th>Open</th>\n",
              "      <td>float64</td>\n",
              "    </tr>\n",
              "    <tr>\n",
              "      <th>High</th>\n",
              "      <td>float64</td>\n",
              "    </tr>\n",
              "    <tr>\n",
              "      <th>Low</th>\n",
              "      <td>float64</td>\n",
              "    </tr>\n",
              "    <tr>\n",
              "      <th>Close</th>\n",
              "      <td>float64</td>\n",
              "    </tr>\n",
              "    <tr>\n",
              "      <th>Adj Close</th>\n",
              "      <td>float64</td>\n",
              "    </tr>\n",
              "    <tr>\n",
              "      <th>Volume</th>\n",
              "      <td>int64</td>\n",
              "    </tr>\n",
              "    <tr>\n",
              "      <th>Product Name</th>\n",
              "      <td>object</td>\n",
              "    </tr>\n",
              "    <tr>\n",
              "      <th>Sale Price</th>\n",
              "      <td>float64</td>\n",
              "    </tr>\n",
              "    <tr>\n",
              "      <th>Country</th>\n",
              "      <td>object</td>\n",
              "    </tr>\n",
              "    <tr>\n",
              "      <th>Mrp</th>\n",
              "      <td>float64</td>\n",
              "    </tr>\n",
              "    <tr>\n",
              "      <th>Brand</th>\n",
              "      <td>object</td>\n",
              "    </tr>\n",
              "    <tr>\n",
              "      <th>Discount Percentage</th>\n",
              "      <td>float64</td>\n",
              "    </tr>\n",
              "    <tr>\n",
              "      <th>Number Of Ratings</th>\n",
              "      <td>float64</td>\n",
              "    </tr>\n",
              "    <tr>\n",
              "      <th>Number Of Reviews</th>\n",
              "      <td>float64</td>\n",
              "    </tr>\n",
              "    <tr>\n",
              "      <th>Star Rating</th>\n",
              "      <td>float64</td>\n",
              "    </tr>\n",
              "    <tr>\n",
              "      <th>Ram</th>\n",
              "      <td>object</td>\n",
              "    </tr>\n",
              "    <tr>\n",
              "      <th>Total number of people in use</th>\n",
              "      <td>float64</td>\n",
              "    </tr>\n",
              "    <tr>\n",
              "      <th>Best in Tech</th>\n",
              "      <td>object</td>\n",
              "    </tr>\n",
              "    <tr>\n",
              "      <th>Total Sales since launch</th>\n",
              "      <td>int64</td>\n",
              "    </tr>\n",
              "    <tr>\n",
              "      <th>Total Number of average stocks Bought</th>\n",
              "      <td>float64</td>\n",
              "    </tr>\n",
              "    <tr>\n",
              "      <th>Cost</th>\n",
              "      <td>float64</td>\n",
              "    </tr>\n",
              "    <tr>\n",
              "      <th>Total Profits</th>\n",
              "      <td>float64</td>\n",
              "    </tr>\n",
              "  </tbody>\n",
              "</table>\n",
              "</div><br><label><b>dtype:</b> object</label>"
            ]
          },
          "metadata": {},
          "execution_count": 410
        }
      ]
    },
    {
      "cell_type": "code",
      "source": [
        "from sklearn.preprocessing import LabelEncoder\n",
        "\n",
        "# Label Encoding for 'Country'\n",
        "label_encoder_country = LabelEncoder()\n",
        "\n",
        "df['Country Encoded'] = label_encoder_country.fit_transform(df['Country'])\n",
        "df['Ram']=label_encoder_country.fit_transform(df['Ram'])\n",
        "\n",
        "# Perform binary encoding for 'Best in Tech'\n",
        "df['Best in Tech Encoded'] = df['Best in Tech'].map({'yes': 1, 'no': 0})\n",
        "\n",
        "# Verify the changes\n",
        "print(df[['Best in Tech', 'Best in Tech Encoded']])"
      ],
      "metadata": {
        "colab": {
          "base_uri": "https://localhost:8080/"
        },
        "id": "sUrDlIPc2lJ8",
        "outputId": "0a00ba25-7faa-4fac-c2c3-9c1f167ae116"
      },
      "execution_count": 411,
      "outputs": [
        {
          "output_type": "stream",
          "name": "stdout",
          "text": [
            "    Best in Tech  Best in Tech Encoded\n",
            "0            Yes                   NaN\n",
            "1            Yes                   NaN\n",
            "2            Yes                   NaN\n",
            "3             No                   NaN\n",
            "4             No                   NaN\n",
            "..           ...                   ...\n",
            "248          Yes                   NaN\n",
            "249          Yes                   NaN\n",
            "250          Yes                   NaN\n",
            "251          Yes                   NaN\n",
            "252          Yes                   NaN\n",
            "\n",
            "[253 rows x 2 columns]\n"
          ]
        }
      ]
    },
    {
      "cell_type": "code",
      "source": [
        "# Check the unique values in the 'Best in Tech' column\n",
        "print(\"Unique values before cleaning:\", df['Best in Tech'].unique())\n",
        "\n",
        "# Strip whitespace and convert to lowercase to ensure consistency\n",
        "df['Best in Tech'] = df['Best in Tech'].str.strip().str.lower()\n",
        "\n",
        "# Re-check the unique values\n",
        "print(\"Unique values after cleaning:\", df['Best in Tech'].unique())\n",
        "\n",
        "# Perform binary encoding for 'Best in Tech'\n",
        "df['Best in Tech Encoded'] = df['Best in Tech'].map({'yes': 1, 'no': 0})\n",
        "\n",
        "# Check for any remaining NaN values in the encoded column\n",
        "nan_count = df['Best in Tech Encoded'].isnull().sum()\n",
        "print(f\"Number of NaN values in 'Best in Tech Encoded': {nan_count}\")\n",
        "\n",
        "# Verify the changes\n",
        "print(df[['Best in Tech', 'Best in Tech Encoded']].head())"
      ],
      "metadata": {
        "colab": {
          "base_uri": "https://localhost:8080/"
        },
        "id": "mcONJQPW62xE",
        "outputId": "5a5d334f-a621-4753-f616-2d9eebf46819"
      },
      "execution_count": 412,
      "outputs": [
        {
          "output_type": "stream",
          "name": "stdout",
          "text": [
            "Unique values before cleaning: ['Yes' 'No']\n",
            "Unique values after cleaning: ['yes' 'no']\n",
            "Number of NaN values in 'Best in Tech Encoded': 0\n",
            "  Best in Tech  Best in Tech Encoded\n",
            "0          yes                     1\n",
            "1          yes                     1\n",
            "2          yes                     1\n",
            "3           no                     0\n",
            "4           no                     0\n"
          ]
        }
      ]
    },
    {
      "cell_type": "markdown",
      "source": [
        "So First Checking the unique values to identify any inconsistencies. Next, clean the data by stripping whitespace and converting all entries to lowercase, ensuring uniform formatting. After cleaning, re-check the unique values to confirm consistency. Then, perform binary encoding by mapping 'Yes' to 1 and 'No' to 0, which converts the categorical data into a numerical format suitable for analysis. Ensure there are no remaining NaN values in the encoded column. Finally, verify the changes by displaying a sample of the original and encoded columns to confirm that the data transformation has been applied correctly."
      ],
      "metadata": {
        "id": "9F-Z5L34F7wq"
      }
    },
    {
      "cell_type": "code",
      "source": [
        "df['Country Encoded']\n",
        "df['Ram']\n",
        "df['Best in Tech Encoded']\n",
        "df['Stock Price'] = df['Stock Price'].str.replace('$', '').astype(float)\n",
        "df['Stock Price']"
      ],
      "metadata": {
        "colab": {
          "base_uri": "https://localhost:8080/",
          "height": 458
        },
        "id": "b6-bmKWX5omF",
        "outputId": "5bf636cb-97bd-4585-bc15-1cc533054c22"
      },
      "execution_count": 413,
      "outputs": [
        {
          "output_type": "execute_result",
          "data": {
            "text/plain": [
              "0      189.08\n",
              "1      189.08\n",
              "2      189.08\n",
              "3      189.08\n",
              "4      189.08\n",
              "        ...  \n",
              "248    218.92\n",
              "249    218.92\n",
              "250    218.92\n",
              "251    218.92\n",
              "252    218.92\n",
              "Name: Stock Price, Length: 253, dtype: float64"
            ],
            "text/html": [
              "<div>\n",
              "<style scoped>\n",
              "    .dataframe tbody tr th:only-of-type {\n",
              "        vertical-align: middle;\n",
              "    }\n",
              "\n",
              "    .dataframe tbody tr th {\n",
              "        vertical-align: top;\n",
              "    }\n",
              "\n",
              "    .dataframe thead th {\n",
              "        text-align: right;\n",
              "    }\n",
              "</style>\n",
              "<table border=\"1\" class=\"dataframe\">\n",
              "  <thead>\n",
              "    <tr style=\"text-align: right;\">\n",
              "      <th></th>\n",
              "      <th>Stock Price</th>\n",
              "    </tr>\n",
              "  </thead>\n",
              "  <tbody>\n",
              "    <tr>\n",
              "      <th>0</th>\n",
              "      <td>189.08</td>\n",
              "    </tr>\n",
              "    <tr>\n",
              "      <th>1</th>\n",
              "      <td>189.08</td>\n",
              "    </tr>\n",
              "    <tr>\n",
              "      <th>2</th>\n",
              "      <td>189.08</td>\n",
              "    </tr>\n",
              "    <tr>\n",
              "      <th>3</th>\n",
              "      <td>189.08</td>\n",
              "    </tr>\n",
              "    <tr>\n",
              "      <th>4</th>\n",
              "      <td>189.08</td>\n",
              "    </tr>\n",
              "    <tr>\n",
              "      <th>...</th>\n",
              "      <td>...</td>\n",
              "    </tr>\n",
              "    <tr>\n",
              "      <th>248</th>\n",
              "      <td>218.92</td>\n",
              "    </tr>\n",
              "    <tr>\n",
              "      <th>249</th>\n",
              "      <td>218.92</td>\n",
              "    </tr>\n",
              "    <tr>\n",
              "      <th>250</th>\n",
              "      <td>218.92</td>\n",
              "    </tr>\n",
              "    <tr>\n",
              "      <th>251</th>\n",
              "      <td>218.92</td>\n",
              "    </tr>\n",
              "    <tr>\n",
              "      <th>252</th>\n",
              "      <td>218.92</td>\n",
              "    </tr>\n",
              "  </tbody>\n",
              "</table>\n",
              "<p>253 rows × 1 columns</p>\n",
              "</div><br><label><b>dtype:</b> float64</label>"
            ]
          },
          "metadata": {},
          "execution_count": 413
        }
      ]
    },
    {
      "cell_type": "code",
      "source": [
        "from sklearn.model_selection import train_test_split\n",
        "\n",
        "# Assuming `df` is your DataFrame with features and target\n",
        "X = df.drop(['Stock Price','Brand','Product Name','Country','Ram','Best in Tech'], axis=1)  # Features\n",
        "\n",
        "y = df['Stock Price']  # Target\n",
        "\n",
        "X_train, X_test, y_train, y_test = train_test_split(X, y, test_size=0.2, random_state=42)\n"
      ],
      "metadata": {
        "id": "m0VJW6bwu-Yw"
      },
      "execution_count": 375,
      "outputs": []
    },
    {
      "cell_type": "markdown",
      "source": [
        "The code snippet prepares the dataset for training a machine learning model. It splits the DataFrame df into features (X) and the target variable (y). Features are selected by dropping columns such as 'Stock Price', 'Brand', 'Product Name', 'Country', 'Ram', and 'Best in Tech', while the target variable is 'Stock Price'. The data is then divided into training and testing sets using an 80-20 split, with 20% of the data reserved for testing. This split is done to evaluate the model's performance on unseen data, ensuring a more accurate assessment of its predictive capabilities."
      ],
      "metadata": {
        "id": "GhdXJDCCGfvw"
      }
    },
    {
      "cell_type": "code",
      "source": [
        "df['Value for Money'] = df['Star Rating'] / df['Sale Price']\n"
      ],
      "metadata": {
        "id": "F0tzXMq6Al6X"
      },
      "execution_count": 379,
      "outputs": []
    },
    {
      "cell_type": "code",
      "source": [
        "import pandas as pd\n",
        "import yfinance as yf\n",
        "# Fetch the latest stock price for Apple\n",
        "apple = yf.Ticker('AAPL')\n",
        "latest_stock_price = apple.history(period='1d')['Close'].iloc[-1]\n",
        "\n",
        "# Add Stock Value to DataFrame\n",
        "df['Stock Value'] = latest_stock_price\n",
        "df['Stock Value']"
      ],
      "metadata": {
        "colab": {
          "base_uri": "https://localhost:8080/",
          "height": 458
        },
        "id": "t1f5P_gaBdkI",
        "outputId": "0d3e2cc0-d1e9-4353-a0a1-f63a83cf379a"
      },
      "execution_count": 384,
      "outputs": [
        {
          "output_type": "execute_result",
          "data": {
            "text/plain": [
              "0      214.850006\n",
              "1      214.850006\n",
              "2      214.850006\n",
              "3      214.850006\n",
              "4      214.850006\n",
              "          ...    \n",
              "248    214.850006\n",
              "249    214.850006\n",
              "250    214.850006\n",
              "251    214.850006\n",
              "252    214.850006\n",
              "Name: Stock Value, Length: 253, dtype: float64"
            ],
            "text/html": [
              "<div>\n",
              "<style scoped>\n",
              "    .dataframe tbody tr th:only-of-type {\n",
              "        vertical-align: middle;\n",
              "    }\n",
              "\n",
              "    .dataframe tbody tr th {\n",
              "        vertical-align: top;\n",
              "    }\n",
              "\n",
              "    .dataframe thead th {\n",
              "        text-align: right;\n",
              "    }\n",
              "</style>\n",
              "<table border=\"1\" class=\"dataframe\">\n",
              "  <thead>\n",
              "    <tr style=\"text-align: right;\">\n",
              "      <th></th>\n",
              "      <th>Stock Value</th>\n",
              "    </tr>\n",
              "  </thead>\n",
              "  <tbody>\n",
              "    <tr>\n",
              "      <th>0</th>\n",
              "      <td>214.850006</td>\n",
              "    </tr>\n",
              "    <tr>\n",
              "      <th>1</th>\n",
              "      <td>214.850006</td>\n",
              "    </tr>\n",
              "    <tr>\n",
              "      <th>2</th>\n",
              "      <td>214.850006</td>\n",
              "    </tr>\n",
              "    <tr>\n",
              "      <th>3</th>\n",
              "      <td>214.850006</td>\n",
              "    </tr>\n",
              "    <tr>\n",
              "      <th>4</th>\n",
              "      <td>214.850006</td>\n",
              "    </tr>\n",
              "    <tr>\n",
              "      <th>...</th>\n",
              "      <td>...</td>\n",
              "    </tr>\n",
              "    <tr>\n",
              "      <th>248</th>\n",
              "      <td>214.850006</td>\n",
              "    </tr>\n",
              "    <tr>\n",
              "      <th>249</th>\n",
              "      <td>214.850006</td>\n",
              "    </tr>\n",
              "    <tr>\n",
              "      <th>250</th>\n",
              "      <td>214.850006</td>\n",
              "    </tr>\n",
              "    <tr>\n",
              "      <th>251</th>\n",
              "      <td>214.850006</td>\n",
              "    </tr>\n",
              "    <tr>\n",
              "      <th>252</th>\n",
              "      <td>214.850006</td>\n",
              "    </tr>\n",
              "  </tbody>\n",
              "</table>\n",
              "<p>253 rows × 1 columns</p>\n",
              "</div><br><label><b>dtype:</b> float64</label>"
            ]
          },
          "metadata": {},
          "execution_count": 384
        }
      ]
    },
    {
      "cell_type": "code",
      "source": [
        "df.to_excel('/content/drive/MyDrive/internship/encoded_sales_data.xlsx', index=False)"
      ],
      "metadata": {
        "id": "d-6lCZzFB3Eq"
      },
      "execution_count": 388,
      "outputs": []
    },
    {
      "cell_type": "code",
      "source": [
        "df.head()"
      ],
      "metadata": {
        "colab": {
          "base_uri": "https://localhost:8080/",
          "height": 672
        },
        "id": "kATKT4wY7ojv",
        "outputId": "5128a7a6-73d9-4877-8205-a2325acde2b2"
      },
      "execution_count": 382,
      "outputs": [
        {
          "output_type": "execute_result",
          "data": {
            "text/plain": [
              "      Date  Stock Price        Open        High         Low       Close  \\\n",
              "0  45139.0       189.08  196.240005  196.729996  195.279999  195.610001   \n",
              "1  45140.0       189.08  195.039993  195.179993  191.850006  192.580002   \n",
              "2  45141.0       189.08  191.570007  192.369995  190.690002  191.169998   \n",
              "3  45142.0       189.08  185.520004  187.380005  181.919998  181.990005   \n",
              "4  45145.0       189.08  182.130005  183.130005  177.350006  178.850006   \n",
              "\n",
              "    Adj Close     Volume                              Product Name  \\\n",
              "0  194.576645   35175100         APPLE iPhone 8 Plus (Gold, 64 GB)   \n",
              "1  191.562653   50389300  APPLE iPhone 8 Plus (Space Grey, 256 GB)   \n",
              "2  190.160110   61235200      APPLE iPhone 8 Plus (Silver, 256 GB)   \n",
              "3  181.028610  115799700           APPLE iPhone 8 (Silver, 256 GB)   \n",
              "4  177.905182   97576100             APPLE iPhone 8 (Gold, 256 GB)   \n",
              "\n",
              "   Sale Price  ... Ram  Total number of people in use Best in Tech  \\\n",
              "0     49900.0  ...   0                         3431.0          yes   \n",
              "1     84900.0  ...   0                         3431.0          yes   \n",
              "2     84900.0  ...   0                         3431.0          yes   \n",
              "3     77000.0  ...   0                        11202.0           no   \n",
              "4     77000.0  ...   0                        11202.0           no   \n",
              "\n",
              "   Total Sales since launch  Total Number of average stocks Bought     Cost  \\\n",
              "0                  35175100                             35175100.0  39920.0   \n",
              "1                  50389300                             50389300.0  67920.0   \n",
              "2                  61235200                             61235200.0  67920.0   \n",
              "3                 115799700                            115799700.0  61600.0   \n",
              "4                  97576100                             97576100.0  61600.0   \n",
              "\n",
              "   Total Profits  Country Encoded  Best in Tech Encoded Value for Money  \n",
              "0   3.510475e+11                3                     1        0.000092  \n",
              "1   8.556103e+11                3                     1        0.000054  \n",
              "2   1.039774e+12                3                     1        0.000054  \n",
              "3   1.783315e+12                3                     0        0.000058  \n",
              "4   1.502672e+12                3                     0        0.000058  \n",
              "\n",
              "[5 rows x 27 columns]"
            ],
            "text/html": [
              "\n",
              "  <div id=\"df-45ca061a-d337-4f69-9297-377b206ff9f1\" class=\"colab-df-container\">\n",
              "    <div>\n",
              "<style scoped>\n",
              "    .dataframe tbody tr th:only-of-type {\n",
              "        vertical-align: middle;\n",
              "    }\n",
              "\n",
              "    .dataframe tbody tr th {\n",
              "        vertical-align: top;\n",
              "    }\n",
              "\n",
              "    .dataframe thead th {\n",
              "        text-align: right;\n",
              "    }\n",
              "</style>\n",
              "<table border=\"1\" class=\"dataframe\">\n",
              "  <thead>\n",
              "    <tr style=\"text-align: right;\">\n",
              "      <th></th>\n",
              "      <th>Date</th>\n",
              "      <th>Stock Price</th>\n",
              "      <th>Open</th>\n",
              "      <th>High</th>\n",
              "      <th>Low</th>\n",
              "      <th>Close</th>\n",
              "      <th>Adj Close</th>\n",
              "      <th>Volume</th>\n",
              "      <th>Product Name</th>\n",
              "      <th>Sale Price</th>\n",
              "      <th>...</th>\n",
              "      <th>Ram</th>\n",
              "      <th>Total number of people in use</th>\n",
              "      <th>Best in Tech</th>\n",
              "      <th>Total Sales since launch</th>\n",
              "      <th>Total Number of average stocks Bought</th>\n",
              "      <th>Cost</th>\n",
              "      <th>Total Profits</th>\n",
              "      <th>Country Encoded</th>\n",
              "      <th>Best in Tech Encoded</th>\n",
              "      <th>Value for Money</th>\n",
              "    </tr>\n",
              "  </thead>\n",
              "  <tbody>\n",
              "    <tr>\n",
              "      <th>0</th>\n",
              "      <td>45139.0</td>\n",
              "      <td>189.08</td>\n",
              "      <td>196.240005</td>\n",
              "      <td>196.729996</td>\n",
              "      <td>195.279999</td>\n",
              "      <td>195.610001</td>\n",
              "      <td>194.576645</td>\n",
              "      <td>35175100</td>\n",
              "      <td>APPLE iPhone 8 Plus (Gold, 64 GB)</td>\n",
              "      <td>49900.0</td>\n",
              "      <td>...</td>\n",
              "      <td>0</td>\n",
              "      <td>3431.0</td>\n",
              "      <td>yes</td>\n",
              "      <td>35175100</td>\n",
              "      <td>35175100.0</td>\n",
              "      <td>39920.0</td>\n",
              "      <td>3.510475e+11</td>\n",
              "      <td>3</td>\n",
              "      <td>1</td>\n",
              "      <td>0.000092</td>\n",
              "    </tr>\n",
              "    <tr>\n",
              "      <th>1</th>\n",
              "      <td>45140.0</td>\n",
              "      <td>189.08</td>\n",
              "      <td>195.039993</td>\n",
              "      <td>195.179993</td>\n",
              "      <td>191.850006</td>\n",
              "      <td>192.580002</td>\n",
              "      <td>191.562653</td>\n",
              "      <td>50389300</td>\n",
              "      <td>APPLE iPhone 8 Plus (Space Grey, 256 GB)</td>\n",
              "      <td>84900.0</td>\n",
              "      <td>...</td>\n",
              "      <td>0</td>\n",
              "      <td>3431.0</td>\n",
              "      <td>yes</td>\n",
              "      <td>50389300</td>\n",
              "      <td>50389300.0</td>\n",
              "      <td>67920.0</td>\n",
              "      <td>8.556103e+11</td>\n",
              "      <td>3</td>\n",
              "      <td>1</td>\n",
              "      <td>0.000054</td>\n",
              "    </tr>\n",
              "    <tr>\n",
              "      <th>2</th>\n",
              "      <td>45141.0</td>\n",
              "      <td>189.08</td>\n",
              "      <td>191.570007</td>\n",
              "      <td>192.369995</td>\n",
              "      <td>190.690002</td>\n",
              "      <td>191.169998</td>\n",
              "      <td>190.160110</td>\n",
              "      <td>61235200</td>\n",
              "      <td>APPLE iPhone 8 Plus (Silver, 256 GB)</td>\n",
              "      <td>84900.0</td>\n",
              "      <td>...</td>\n",
              "      <td>0</td>\n",
              "      <td>3431.0</td>\n",
              "      <td>yes</td>\n",
              "      <td>61235200</td>\n",
              "      <td>61235200.0</td>\n",
              "      <td>67920.0</td>\n",
              "      <td>1.039774e+12</td>\n",
              "      <td>3</td>\n",
              "      <td>1</td>\n",
              "      <td>0.000054</td>\n",
              "    </tr>\n",
              "    <tr>\n",
              "      <th>3</th>\n",
              "      <td>45142.0</td>\n",
              "      <td>189.08</td>\n",
              "      <td>185.520004</td>\n",
              "      <td>187.380005</td>\n",
              "      <td>181.919998</td>\n",
              "      <td>181.990005</td>\n",
              "      <td>181.028610</td>\n",
              "      <td>115799700</td>\n",
              "      <td>APPLE iPhone 8 (Silver, 256 GB)</td>\n",
              "      <td>77000.0</td>\n",
              "      <td>...</td>\n",
              "      <td>0</td>\n",
              "      <td>11202.0</td>\n",
              "      <td>no</td>\n",
              "      <td>115799700</td>\n",
              "      <td>115799700.0</td>\n",
              "      <td>61600.0</td>\n",
              "      <td>1.783315e+12</td>\n",
              "      <td>3</td>\n",
              "      <td>0</td>\n",
              "      <td>0.000058</td>\n",
              "    </tr>\n",
              "    <tr>\n",
              "      <th>4</th>\n",
              "      <td>45145.0</td>\n",
              "      <td>189.08</td>\n",
              "      <td>182.130005</td>\n",
              "      <td>183.130005</td>\n",
              "      <td>177.350006</td>\n",
              "      <td>178.850006</td>\n",
              "      <td>177.905182</td>\n",
              "      <td>97576100</td>\n",
              "      <td>APPLE iPhone 8 (Gold, 256 GB)</td>\n",
              "      <td>77000.0</td>\n",
              "      <td>...</td>\n",
              "      <td>0</td>\n",
              "      <td>11202.0</td>\n",
              "      <td>no</td>\n",
              "      <td>97576100</td>\n",
              "      <td>97576100.0</td>\n",
              "      <td>61600.0</td>\n",
              "      <td>1.502672e+12</td>\n",
              "      <td>3</td>\n",
              "      <td>0</td>\n",
              "      <td>0.000058</td>\n",
              "    </tr>\n",
              "  </tbody>\n",
              "</table>\n",
              "<p>5 rows × 27 columns</p>\n",
              "</div>\n",
              "    <div class=\"colab-df-buttons\">\n",
              "\n",
              "  <div class=\"colab-df-container\">\n",
              "    <button class=\"colab-df-convert\" onclick=\"convertToInteractive('df-45ca061a-d337-4f69-9297-377b206ff9f1')\"\n",
              "            title=\"Convert this dataframe to an interactive table.\"\n",
              "            style=\"display:none;\">\n",
              "\n",
              "  <svg xmlns=\"http://www.w3.org/2000/svg\" height=\"24px\" viewBox=\"0 -960 960 960\">\n",
              "    <path d=\"M120-120v-720h720v720H120Zm60-500h600v-160H180v160Zm220 220h160v-160H400v160Zm0 220h160v-160H400v160ZM180-400h160v-160H180v160Zm440 0h160v-160H620v160ZM180-180h160v-160H180v160Zm440 0h160v-160H620v160Z\"/>\n",
              "  </svg>\n",
              "    </button>\n",
              "\n",
              "  <style>\n",
              "    .colab-df-container {\n",
              "      display:flex;\n",
              "      gap: 12px;\n",
              "    }\n",
              "\n",
              "    .colab-df-convert {\n",
              "      background-color: #E8F0FE;\n",
              "      border: none;\n",
              "      border-radius: 50%;\n",
              "      cursor: pointer;\n",
              "      display: none;\n",
              "      fill: #1967D2;\n",
              "      height: 32px;\n",
              "      padding: 0 0 0 0;\n",
              "      width: 32px;\n",
              "    }\n",
              "\n",
              "    .colab-df-convert:hover {\n",
              "      background-color: #E2EBFA;\n",
              "      box-shadow: 0px 1px 2px rgba(60, 64, 67, 0.3), 0px 1px 3px 1px rgba(60, 64, 67, 0.15);\n",
              "      fill: #174EA6;\n",
              "    }\n",
              "\n",
              "    .colab-df-buttons div {\n",
              "      margin-bottom: 4px;\n",
              "    }\n",
              "\n",
              "    [theme=dark] .colab-df-convert {\n",
              "      background-color: #3B4455;\n",
              "      fill: #D2E3FC;\n",
              "    }\n",
              "\n",
              "    [theme=dark] .colab-df-convert:hover {\n",
              "      background-color: #434B5C;\n",
              "      box-shadow: 0px 1px 3px 1px rgba(0, 0, 0, 0.15);\n",
              "      filter: drop-shadow(0px 1px 2px rgba(0, 0, 0, 0.3));\n",
              "      fill: #FFFFFF;\n",
              "    }\n",
              "  </style>\n",
              "\n",
              "    <script>\n",
              "      const buttonEl =\n",
              "        document.querySelector('#df-45ca061a-d337-4f69-9297-377b206ff9f1 button.colab-df-convert');\n",
              "      buttonEl.style.display =\n",
              "        google.colab.kernel.accessAllowed ? 'block' : 'none';\n",
              "\n",
              "      async function convertToInteractive(key) {\n",
              "        const element = document.querySelector('#df-45ca061a-d337-4f69-9297-377b206ff9f1');\n",
              "        const dataTable =\n",
              "          await google.colab.kernel.invokeFunction('convertToInteractive',\n",
              "                                                    [key], {});\n",
              "        if (!dataTable) return;\n",
              "\n",
              "        const docLinkHtml = 'Like what you see? Visit the ' +\n",
              "          '<a target=\"_blank\" href=https://colab.research.google.com/notebooks/data_table.ipynb>data table notebook</a>'\n",
              "          + ' to learn more about interactive tables.';\n",
              "        element.innerHTML = '';\n",
              "        dataTable['output_type'] = 'display_data';\n",
              "        await google.colab.output.renderOutput(dataTable, element);\n",
              "        const docLink = document.createElement('div');\n",
              "        docLink.innerHTML = docLinkHtml;\n",
              "        element.appendChild(docLink);\n",
              "      }\n",
              "    </script>\n",
              "  </div>\n",
              "\n",
              "\n",
              "<div id=\"df-5705be82-4dee-4f94-94b5-cdf5b0917c7e\">\n",
              "  <button class=\"colab-df-quickchart\" onclick=\"quickchart('df-5705be82-4dee-4f94-94b5-cdf5b0917c7e')\"\n",
              "            title=\"Suggest charts\"\n",
              "            style=\"display:none;\">\n",
              "\n",
              "<svg xmlns=\"http://www.w3.org/2000/svg\" height=\"24px\"viewBox=\"0 0 24 24\"\n",
              "     width=\"24px\">\n",
              "    <g>\n",
              "        <path d=\"M19 3H5c-1.1 0-2 .9-2 2v14c0 1.1.9 2 2 2h14c1.1 0 2-.9 2-2V5c0-1.1-.9-2-2-2zM9 17H7v-7h2v7zm4 0h-2V7h2v10zm4 0h-2v-4h2v4z\"/>\n",
              "    </g>\n",
              "</svg>\n",
              "  </button>\n",
              "\n",
              "<style>\n",
              "  .colab-df-quickchart {\n",
              "      --bg-color: #E8F0FE;\n",
              "      --fill-color: #1967D2;\n",
              "      --hover-bg-color: #E2EBFA;\n",
              "      --hover-fill-color: #174EA6;\n",
              "      --disabled-fill-color: #AAA;\n",
              "      --disabled-bg-color: #DDD;\n",
              "  }\n",
              "\n",
              "  [theme=dark] .colab-df-quickchart {\n",
              "      --bg-color: #3B4455;\n",
              "      --fill-color: #D2E3FC;\n",
              "      --hover-bg-color: #434B5C;\n",
              "      --hover-fill-color: #FFFFFF;\n",
              "      --disabled-bg-color: #3B4455;\n",
              "      --disabled-fill-color: #666;\n",
              "  }\n",
              "\n",
              "  .colab-df-quickchart {\n",
              "    background-color: var(--bg-color);\n",
              "    border: none;\n",
              "    border-radius: 50%;\n",
              "    cursor: pointer;\n",
              "    display: none;\n",
              "    fill: var(--fill-color);\n",
              "    height: 32px;\n",
              "    padding: 0;\n",
              "    width: 32px;\n",
              "  }\n",
              "\n",
              "  .colab-df-quickchart:hover {\n",
              "    background-color: var(--hover-bg-color);\n",
              "    box-shadow: 0 1px 2px rgba(60, 64, 67, 0.3), 0 1px 3px 1px rgba(60, 64, 67, 0.15);\n",
              "    fill: var(--button-hover-fill-color);\n",
              "  }\n",
              "\n",
              "  .colab-df-quickchart-complete:disabled,\n",
              "  .colab-df-quickchart-complete:disabled:hover {\n",
              "    background-color: var(--disabled-bg-color);\n",
              "    fill: var(--disabled-fill-color);\n",
              "    box-shadow: none;\n",
              "  }\n",
              "\n",
              "  .colab-df-spinner {\n",
              "    border: 2px solid var(--fill-color);\n",
              "    border-color: transparent;\n",
              "    border-bottom-color: var(--fill-color);\n",
              "    animation:\n",
              "      spin 1s steps(1) infinite;\n",
              "  }\n",
              "\n",
              "  @keyframes spin {\n",
              "    0% {\n",
              "      border-color: transparent;\n",
              "      border-bottom-color: var(--fill-color);\n",
              "      border-left-color: var(--fill-color);\n",
              "    }\n",
              "    20% {\n",
              "      border-color: transparent;\n",
              "      border-left-color: var(--fill-color);\n",
              "      border-top-color: var(--fill-color);\n",
              "    }\n",
              "    30% {\n",
              "      border-color: transparent;\n",
              "      border-left-color: var(--fill-color);\n",
              "      border-top-color: var(--fill-color);\n",
              "      border-right-color: var(--fill-color);\n",
              "    }\n",
              "    40% {\n",
              "      border-color: transparent;\n",
              "      border-right-color: var(--fill-color);\n",
              "      border-top-color: var(--fill-color);\n",
              "    }\n",
              "    60% {\n",
              "      border-color: transparent;\n",
              "      border-right-color: var(--fill-color);\n",
              "    }\n",
              "    80% {\n",
              "      border-color: transparent;\n",
              "      border-right-color: var(--fill-color);\n",
              "      border-bottom-color: var(--fill-color);\n",
              "    }\n",
              "    90% {\n",
              "      border-color: transparent;\n",
              "      border-bottom-color: var(--fill-color);\n",
              "    }\n",
              "  }\n",
              "</style>\n",
              "\n",
              "  <script>\n",
              "    async function quickchart(key) {\n",
              "      const quickchartButtonEl =\n",
              "        document.querySelector('#' + key + ' button');\n",
              "      quickchartButtonEl.disabled = true;  // To prevent multiple clicks.\n",
              "      quickchartButtonEl.classList.add('colab-df-spinner');\n",
              "      try {\n",
              "        const charts = await google.colab.kernel.invokeFunction(\n",
              "            'suggestCharts', [key], {});\n",
              "      } catch (error) {\n",
              "        console.error('Error during call to suggestCharts:', error);\n",
              "      }\n",
              "      quickchartButtonEl.classList.remove('colab-df-spinner');\n",
              "      quickchartButtonEl.classList.add('colab-df-quickchart-complete');\n",
              "    }\n",
              "    (() => {\n",
              "      let quickchartButtonEl =\n",
              "        document.querySelector('#df-5705be82-4dee-4f94-94b5-cdf5b0917c7e button');\n",
              "      quickchartButtonEl.style.display =\n",
              "        google.colab.kernel.accessAllowed ? 'block' : 'none';\n",
              "    })();\n",
              "  </script>\n",
              "</div>\n",
              "\n",
              "    </div>\n",
              "  </div>\n"
            ],
            "application/vnd.google.colaboratory.intrinsic+json": {
              "type": "dataframe",
              "variable_name": "df"
            }
          },
          "metadata": {},
          "execution_count": 382
        }
      ]
    },
    {
      "cell_type": "code",
      "source": [
        "from sklearn.tree import DecisionTreeRegressor\n",
        "\n",
        "# Initialize and train the model\n",
        "model = DecisionTreeRegressor()\n",
        "model.fit(X_train, y_train)\n",
        "\n",
        "# Make predictions\n",
        "y_pred = model.predict(X_test)\n",
        "\n",
        "# Evaluate the model\n",
        "print(\"Decision Tree Regressor:\")\n",
        "print(f\"Mean Absolute Error: {mean_absolute_error(y_test, y_pred)}\")\n",
        "print(f\"Mean Squared Error: {mean_squared_error(y_test, y_pred)}\")\n",
        "print(f\"R-squared Score: {r2_score(y_test, y_pred)}\")\n"
      ],
      "metadata": {
        "colab": {
          "base_uri": "https://localhost:8080/"
        },
        "id": "EHDlnWYr4-cH",
        "outputId": "efcad8de-c47b-4398-8471-f08dcfe26b09"
      },
      "execution_count": 377,
      "outputs": [
        {
          "output_type": "stream",
          "name": "stdout",
          "text": [
            "Decision Tree Regressor:\n",
            "Mean Absolute Error: 0.42921568627453793\n",
            "Mean Squared Error: 3.527268627450989\n",
            "R-squared Score: 0.9836169735825435\n"
          ]
        }
      ]
    },
    {
      "cell_type": "markdown",
      "source": [
        "The code trains a Decision Tree Regressor model to predict stock prices. It starts by fitting the model with training data, then uses it to make predictions on test data. The model's performance is evaluated using three metrics: Mean Absolute Error (MAE), which measures the average magnitude of errors; Mean Squared Error (MSE), which penalizes larger errors more heavily; and R-squared score, which indicates how well the model explains the variance in stock prices. These metrics help assess the model's accuracy and effectiveness in predicting stock prices.\n",
        "\n",
        "\n",
        "\n",
        "\n",
        "\n",
        "\n"
      ],
      "metadata": {
        "id": "ycE772y_GSUF"
      }
    }
  ]
}