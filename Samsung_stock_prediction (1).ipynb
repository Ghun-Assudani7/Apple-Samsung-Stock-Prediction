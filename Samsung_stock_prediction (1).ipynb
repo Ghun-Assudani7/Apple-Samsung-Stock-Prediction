{
  "nbformat": 4,
  "nbformat_minor": 0,
  "metadata": {
    "colab": {
      "provenance": []
    },
    "kernelspec": {
      "name": "python3",
      "display_name": "Python 3"
    },
    "language_info": {
      "name": "python"
    }
  },
  "cells": [
    {
      "cell_type": "code",
      "source": [
        "from google.colab import drive\n",
        "drive.mount('/content/drive')"
      ],
      "metadata": {
        "colab": {
          "base_uri": "https://localhost:8080/"
        },
        "id": "rpwy7xMiM4SI",
        "outputId": "4f04c8dd-cdfe-41a7-d711-400277978878"
      },
      "execution_count": 2,
      "outputs": [
        {
          "output_type": "stream",
          "name": "stdout",
          "text": [
            "Mounted at /content/drive\n"
          ]
        }
      ]
    },
    {
      "cell_type": "code",
      "source": [
        "import pandas as pd\n",
        "# Load your Excel file\n",
        "df = pd.read_csv('/content/drive/MyDrive/internship/samsungdata.csv')"
      ],
      "metadata": {
        "id": "aPEvHI1iNgJ1"
      },
      "execution_count": 19,
      "outputs": []
    },
    {
      "cell_type": "markdown",
      "source": [
        "EDA( Exploratory Data Analysis)"
      ],
      "metadata": {
        "id": "rlhGqgKRU9Od"
      }
    },
    {
      "cell_type": "code",
      "source": [
        "# Get the shape of the DataFrame\n",
        "print(\"DataFrame Shape:\")\n",
        "print(df.shape)  # Outputs: (number_of_rows, number_of_columns)\n",
        "\n",
        "# Get descriptive statistics of the DataFrame\n",
        "print(\"\\nDescriptive Statistics:\")\n",
        "print(df.describe())  # Outputs statistical summary of numerical columns\n"
      ],
      "metadata": {
        "colab": {
          "base_uri": "https://localhost:8080/"
        },
        "id": "HHae_b1jN63S",
        "outputId": "20981a60-dc3c-4c9e-f6c1-059bc657ef3f"
      },
      "execution_count": 20,
      "outputs": [
        {
          "output_type": "stream",
          "name": "stdout",
          "text": [
            "DataFrame Shape:\n",
            "(245, 7)\n",
            "\n",
            "Descriptive Statistics:\n",
            "               Open          High           Low         Close     Adj Close  \\\n",
            "count    245.000000    245.000000    245.000000    245.000000    245.000000   \n",
            "mean   75082.857143  75711.020408  74349.387755  74989.387755  74333.037995   \n",
            "std     5347.003144   5429.986658   5197.119477   5347.549005   5674.357307   \n",
            "min    66000.000000  66700.000000  65800.000000  66000.000000  65057.164060   \n",
            "25%    71400.000000  71900.000000  70700.000000  71200.000000  70230.625000   \n",
            "50%    74100.000000  74700.000000  73300.000000  73900.000000  73338.132810   \n",
            "75%    78800.000000  79500.000000  77900.000000  78600.000000  78194.312500   \n",
            "max    88500.000000  88800.000000  87100.000000  87800.000000  87800.000000   \n",
            "\n",
            "             Volume  \n",
            "count  2.450000e+02  \n",
            "mean   1.777242e+07  \n",
            "std    8.226562e+06  \n",
            "min    2.957915e+06  \n",
            "25%    1.230137e+07  \n",
            "50%    1.586045e+07  \n",
            "75%    2.090034e+07  \n",
            "max    5.769127e+07  \n"
          ]
        }
      ]
    },
    {
      "cell_type": "markdown",
      "source": [
        "Calculating other Attributes that give more necessary indights."
      ],
      "metadata": {
        "id": "wh66sdQdVbO3"
      }
    },
    {
      "cell_type": "markdown",
      "source": [],
      "metadata": {
        "id": "8HrPe4nSU8Zi"
      }
    },
    {
      "cell_type": "code",
      "source": [
        "# Calculate the total volume traded (sum of volume)\n",
        "df['Total_Stocks_Bought'] = df['Volume'].sum()\n",
        "\n",
        "# 2. **Calculate Average Daily Volume**\n",
        "df['Average_Daily_Volume'] = df['Volume'].mean()\n",
        "\n",
        "# 3. **Calculate Daily Returns** (Optional)\n",
        "# Daily returns can be useful for additional analysis\n",
        "df['Daily_Return'] = df['Close'].pct_change()\n",
        "\n",
        "# Example of using stock price for further calculations\n",
        "# Hypothetical stock price (for illustration only)\n",
        "stock_price = 100  # Replace with actual stock price if available\n",
        "\n",
        "# Assuming EPS is not available in the dataset\n",
        "# Skipping 'Value for Money' calculation\n",
        "\n",
        "# Print summary\n",
        "print(f\"Total Number of Average Stocks Bought: {df['Total_Stocks_Bought'].iloc[0]:,.0f}\")\n",
        "print(f\"Average Daily Volume: {df['Average_Daily_Volume'].iloc[0]:,.0f}\")\n",
        "print(\"Sample of Daily Returns:\")\n",
        "print(df[['Date', 'Daily_Return']].head())"
      ],
      "metadata": {
        "colab": {
          "base_uri": "https://localhost:8080/"
        },
        "id": "LbI45bFePfhe",
        "outputId": "1011c6fd-4b3b-49ce-b88c-ce99b5511dda"
      },
      "execution_count": 21,
      "outputs": [
        {
          "output_type": "stream",
          "name": "stdout",
          "text": [
            "Total Number of Average Stocks Bought: 4,354,241,834\n",
            "Average Daily Volume: 17,772,416\n",
            "Sample of Daily Returns:\n",
            "         Date  Daily_Return\n",
            "0  10/08/2023           NaN\n",
            "1  11/08/2023     -0.007353\n",
            "2  14/08/2023     -0.002963\n",
            "3  16/08/2023     -0.004458\n",
            "4  17/08/2023     -0.004478\n"
          ]
        }
      ]
    },
    {
      "cell_type": "code",
      "source": [
        "# Ensure Date is in datetime format for time-based calculations\n",
        "df['Date'] = pd.to_datetime(df['Date'], dayfirst=True)\n",
        "\n",
        "# Calculate Total Number of Average Stocks Bought in Total as of Today\n",
        "# Total Volume represents the total number of shares traded\n",
        "df['Total_Stocks_Bought'] = df['Volume'].sum()\n",
        "\n",
        "# Calculate Average Daily Volume (if needed for further analysis)\n",
        "df['Average_Daily_Volume'] = df['Volume'].mean()\n",
        "\n",
        "# Calculate Stock Value (using the most recent Close price as a proxy)\n",
        "most_recent_close_price = df['Close'].iloc[-1]  # Get the latest Close price\n",
        "df['Stock_Value'] = most_recent_close_price\n",
        "\n",
        "# Add a column for Stock Value in the dataset (if you want to add it to every row)\n",
        "df['Stock_Value'] = most_recent_close_price"
      ],
      "metadata": {
        "id": "6-aIW_0eQF10"
      },
      "execution_count": 22,
      "outputs": []
    },
    {
      "cell_type": "code",
      "source": [
        "df.head()\n",
        "df.dtypes\n"
      ],
      "metadata": {
        "colab": {
          "base_uri": "https://localhost:8080/",
          "height": 429
        },
        "id": "tfY0YFAFQW1R",
        "outputId": "c4584dc6-c25b-44e7-9a1f-219835905e8f"
      },
      "execution_count": 16,
      "outputs": [
        {
          "output_type": "execute_result",
          "data": {
            "text/plain": [
              "Date                    datetime64[ns]\n",
              "Open                             int64\n",
              "High                             int64\n",
              "Low                              int64\n",
              "Close                            int64\n",
              "Adj Close                      float64\n",
              "Volume                           int64\n",
              "Total_Stocks_Bought              int64\n",
              "Average_Daily_Volume           float64\n",
              "Daily_Return                   float64\n",
              "Stock_Value                      int64\n",
              "dtype: object"
            ],
            "text/html": [
              "<div>\n",
              "<style scoped>\n",
              "    .dataframe tbody tr th:only-of-type {\n",
              "        vertical-align: middle;\n",
              "    }\n",
              "\n",
              "    .dataframe tbody tr th {\n",
              "        vertical-align: top;\n",
              "    }\n",
              "\n",
              "    .dataframe thead th {\n",
              "        text-align: right;\n",
              "    }\n",
              "</style>\n",
              "<table border=\"1\" class=\"dataframe\">\n",
              "  <thead>\n",
              "    <tr style=\"text-align: right;\">\n",
              "      <th></th>\n",
              "      <th>0</th>\n",
              "    </tr>\n",
              "  </thead>\n",
              "  <tbody>\n",
              "    <tr>\n",
              "      <th>Date</th>\n",
              "      <td>datetime64[ns]</td>\n",
              "    </tr>\n",
              "    <tr>\n",
              "      <th>Open</th>\n",
              "      <td>int64</td>\n",
              "    </tr>\n",
              "    <tr>\n",
              "      <th>High</th>\n",
              "      <td>int64</td>\n",
              "    </tr>\n",
              "    <tr>\n",
              "      <th>Low</th>\n",
              "      <td>int64</td>\n",
              "    </tr>\n",
              "    <tr>\n",
              "      <th>Close</th>\n",
              "      <td>int64</td>\n",
              "    </tr>\n",
              "    <tr>\n",
              "      <th>Adj Close</th>\n",
              "      <td>float64</td>\n",
              "    </tr>\n",
              "    <tr>\n",
              "      <th>Volume</th>\n",
              "      <td>int64</td>\n",
              "    </tr>\n",
              "    <tr>\n",
              "      <th>Total_Stocks_Bought</th>\n",
              "      <td>int64</td>\n",
              "    </tr>\n",
              "    <tr>\n",
              "      <th>Average_Daily_Volume</th>\n",
              "      <td>float64</td>\n",
              "    </tr>\n",
              "    <tr>\n",
              "      <th>Daily_Return</th>\n",
              "      <td>float64</td>\n",
              "    </tr>\n",
              "    <tr>\n",
              "      <th>Stock_Value</th>\n",
              "      <td>int64</td>\n",
              "    </tr>\n",
              "  </tbody>\n",
              "</table>\n",
              "</div><br><label><b>dtype:</b> object</label>"
            ]
          },
          "metadata": {},
          "execution_count": 16
        }
      ]
    },
    {
      "cell_type": "markdown",
      "source": [],
      "metadata": {
        "id": "H-jQB22cXbZL"
      }
    },
    {
      "cell_type": "code",
      "source": [
        "import pandas as pd\n",
        "import numpy as np\n",
        "\n",
        "# Generate random data\n",
        "np.random.seed(0)  # For reproducibility\n",
        "\n",
        "# Number of companies or data points\n",
        "num_entries = 10  # Adjust as needed\n",
        "\n",
        "# Generate random data\n",
        "data = {\n",
        "    'Company': [f'Company_{i}' for i in range(1, num_entries + 1)],\n",
        "    'EPS': np.random.uniform(0.5, 5.0, num_entries),  # Earnings Per Share\n",
        "    'Stock_Price': np.random.uniform(50, 500, num_entries),  # Stock Price\n",
        "    'Net_Income': np.random.uniform(1e9, 5e10, num_entries),  # Net Income\n",
        "    'Total_Users': np.random.randint(1e6, 1e7, num_entries),  # Number of Users\n",
        "    'Total_Sales_Since_Launch': np.random.uniform(1e9, 1e11, num_entries),  # Sales\n",
        "    'USA_Sales': np.random.uniform(1e8, 5e9, num_entries),  # Sales in USA\n",
        "    'Canada_Sales': np.random.uniform(1e7, 1e9, num_entries),  # Sales in Canada\n",
        "    'UK_Sales': np.random.uniform(1e7, 1e9, num_entries),  # Sales in UK\n",
        "    'Tech_Sales': np.random.uniform(1e8, 5e9, num_entries)  # Tech sector sales\n",
        "}\n",
        "# Calculate additional attributes based on random data\n",
        "df['Value_for_Money'] = df['EPS'] / df['Stock_Price']  # Value for Money\n",
        "df['Total_Profits'] = df['Net_Income']  # Total Profits\n",
        "\n",
        "# Determine the best seller by country\n",
        "df['Best_Seller_Country'] = df[['USA_Sales', 'Canada_Sales', 'UK_Sales']].idxmax(axis=1)\n",
        "\n",
        "# Determine best in tech\n",
        "df['Best_in_Tech'] = df['Tech_Sales'].idxmax()"
      ],
      "metadata": {
        "id": "ynyBVQ0yRdu4"
      },
      "execution_count": 42,
      "outputs": []
    },
    {
      "cell_type": "code",
      "source": [
        "um_entries = len(df)\n",
        "\n",
        "# Seed for reproducibility\n",
        "np.random.seed(0)\n",
        "\n",
        "# Generate random data\n",
        "random_data = {\n",
        "    'Company': [f'Company_{i}' for i in range(1, num_entries + 1)],\n",
        "    'EPS': np.random.uniform(0.5, 5.0, num_entries),  # Earnings Per Share\n",
        "    'Stock_Price': np.random.uniform(50, 500, num_entries),  # Stock Price\n",
        "    'Net_Income': np.random.uniform(1e9, 5e10, num_entries),  # Net Income\n",
        "    'Total_Users': np.random.randint(1e6, 1e7, num_entries),  # Number of Users\n",
        "    'Total_Sales_Since_Launch': np.random.uniform(1e9, 1e11, num_entries),  # Sales\n",
        "    'USA_Sales': np.random.uniform(1e8, 5e9, num_entries),  # Sales in USA\n",
        "    'Canada_Sales': np.random.uniform(1e7, 1e9, num_entries),  # Sales in Canada\n",
        "    'UK_Sales': np.random.uniform(1e7, 1e9, num_entries),  # Sales in UK\n",
        "    'Tech_Sales': np.random.uniform(1e8, 5e9, num_entries)  # Tech sector sales\n",
        "}\n",
        "\n",
        "# Convert random data to DataFrame\n",
        "random_df = pd.DataFrame(random_data)\n",
        "\n",
        "# Merge with existing dataset on index\n",
        "df = pd.concat([df, random_df], axis=1)\n",
        "\n",
        "# Calculate additional attributes\n",
        "df['Value_for_Money'] = df['EPS'] / df['Stock_Price']  # Value for Money\n",
        "df['Total_Profits'] = df['Net_Income']  # Total Profits\n",
        "\n",
        "# Determine the best seller by country\n",
        "df['Best_Seller_Country'] = df[['USA_Sales', 'Canada_Sales', 'UK_Sales']].idxmax(axis=1)\n",
        "\n",
        "# Determine best in tech\n",
        "df['Best_in_Tech'] = df['Tech_Sales'].idxmax()"
      ],
      "metadata": {
        "colab": {
          "base_uri": "https://localhost:8080/"
        },
        "id": "QDOobpUhSAvJ",
        "outputId": "dc9421fe-b09d-4634-8222-69232258d9cc"
      },
      "execution_count": 24,
      "outputs": [
        {
          "output_type": "stream",
          "name": "stderr",
          "text": [
            "<ipython-input-24-a9b63c8dd8c4>:31: FutureWarning: The behavior of DataFrame.idxmax with all-NA values, or any-NA and skipna=False, is deprecated. In a future version this will raise ValueError\n",
            "  df['Best_Seller_Country'] = df[['USA_Sales', 'Canada_Sales', 'UK_Sales']].idxmax(axis=1)\n"
          ]
        }
      ]
    },
    {
      "cell_type": "code",
      "source": [
        "df.dtypes\n",
        "df.head()"
      ],
      "metadata": {
        "colab": {
          "base_uri": "https://localhost:8080/",
          "height": 342
        },
        "id": "5WXGIJKsRldF",
        "outputId": "5cdbfc7a-6b18-47be-c418-56ec590d3282"
      },
      "execution_count": 26,
      "outputs": [
        {
          "output_type": "execute_result",
          "data": {
            "text/plain": [
              "        Date   Open   High    Low  Close    Adj Close    Volume  \\\n",
              "0 2023-08-10  68300  68500  67800  68000  66725.29688  10227311   \n",
              "1 2023-08-11  68400  68800  67500  67500  66234.65625   9781038   \n",
              "2 2023-08-14  67500  67900  66900  67300  66038.41406   9352343   \n",
              "3 2023-08-16  66700  67100  66300  67000  65744.04688  13174578   \n",
              "4 2023-08-17  66300  66800  66000  66700  65449.65625  10778652   \n",
              "\n",
              "   Total_Stocks_Bought  Average_Daily_Volume  Daily_Return  ...  Total_Users  \\\n",
              "0           4354241834          1.777242e+07           NaN  ...    4419595.0   \n",
              "1           4354241834          1.777242e+07     -0.007353  ...    8329820.0   \n",
              "2           4354241834          1.777242e+07     -0.002963  ...    9708898.0   \n",
              "3           4354241834          1.777242e+07     -0.004458  ...    2924149.0   \n",
              "4           4354241834          1.777242e+07     -0.004478  ...    6314437.0   \n",
              "\n",
              "  Total_Sales_Since_Launch     USA_Sales  Canada_Sales      UK_Sales  \\\n",
              "0             6.962322e+09  6.000196e+08  1.468011e+08  6.087971e+08   \n",
              "1             6.700990e+10  1.123496e+09  2.046165e+08  7.418709e+08   \n",
              "2             6.739315e+10  8.904166e+08  3.750379e+08  4.879591e+07   \n",
              "3             2.182787e+10  3.300231e+09  8.227833e+08  2.899789e+08   \n",
              "4             1.376370e+10  1.341129e+09  1.061303e+08  1.289946e+08   \n",
              "\n",
              "     Tech_Sales  Value_for_Money  Total_Profits  Best_Seller_Country  \\\n",
              "0  3.493113e+09         0.007309   4.895230e+10             UK_Sales   \n",
              "1  2.876347e+09         0.012911   4.015877e+10            USA_Sales   \n",
              "2  1.400409e+09         0.010511   2.361249e+10            USA_Sales   \n",
              "3  2.663915e+09         0.006328   3.924593e+10            USA_Sales   \n",
              "4  5.603085e+08         0.029359   6.795447e+09            USA_Sales   \n",
              "\n",
              "   Best_in_Tech  \n",
              "0             6  \n",
              "1             6  \n",
              "2             6  \n",
              "3             6  \n",
              "4             6  \n",
              "\n",
              "[5 rows x 25 columns]"
            ],
            "text/html": [
              "\n",
              "  <div id=\"df-820dfcae-68bd-48cd-8796-4337b92510f4\" class=\"colab-df-container\">\n",
              "    <div>\n",
              "<style scoped>\n",
              "    .dataframe tbody tr th:only-of-type {\n",
              "        vertical-align: middle;\n",
              "    }\n",
              "\n",
              "    .dataframe tbody tr th {\n",
              "        vertical-align: top;\n",
              "    }\n",
              "\n",
              "    .dataframe thead th {\n",
              "        text-align: right;\n",
              "    }\n",
              "</style>\n",
              "<table border=\"1\" class=\"dataframe\">\n",
              "  <thead>\n",
              "    <tr style=\"text-align: right;\">\n",
              "      <th></th>\n",
              "      <th>Date</th>\n",
              "      <th>Open</th>\n",
              "      <th>High</th>\n",
              "      <th>Low</th>\n",
              "      <th>Close</th>\n",
              "      <th>Adj Close</th>\n",
              "      <th>Volume</th>\n",
              "      <th>Total_Stocks_Bought</th>\n",
              "      <th>Average_Daily_Volume</th>\n",
              "      <th>Daily_Return</th>\n",
              "      <th>...</th>\n",
              "      <th>Total_Users</th>\n",
              "      <th>Total_Sales_Since_Launch</th>\n",
              "      <th>USA_Sales</th>\n",
              "      <th>Canada_Sales</th>\n",
              "      <th>UK_Sales</th>\n",
              "      <th>Tech_Sales</th>\n",
              "      <th>Value_for_Money</th>\n",
              "      <th>Total_Profits</th>\n",
              "      <th>Best_Seller_Country</th>\n",
              "      <th>Best_in_Tech</th>\n",
              "    </tr>\n",
              "  </thead>\n",
              "  <tbody>\n",
              "    <tr>\n",
              "      <th>0</th>\n",
              "      <td>2023-08-10</td>\n",
              "      <td>68300</td>\n",
              "      <td>68500</td>\n",
              "      <td>67800</td>\n",
              "      <td>68000</td>\n",
              "      <td>66725.29688</td>\n",
              "      <td>10227311</td>\n",
              "      <td>4354241834</td>\n",
              "      <td>1.777242e+07</td>\n",
              "      <td>NaN</td>\n",
              "      <td>...</td>\n",
              "      <td>4419595.0</td>\n",
              "      <td>6.962322e+09</td>\n",
              "      <td>6.000196e+08</td>\n",
              "      <td>1.468011e+08</td>\n",
              "      <td>6.087971e+08</td>\n",
              "      <td>3.493113e+09</td>\n",
              "      <td>0.007309</td>\n",
              "      <td>4.895230e+10</td>\n",
              "      <td>UK_Sales</td>\n",
              "      <td>6</td>\n",
              "    </tr>\n",
              "    <tr>\n",
              "      <th>1</th>\n",
              "      <td>2023-08-11</td>\n",
              "      <td>68400</td>\n",
              "      <td>68800</td>\n",
              "      <td>67500</td>\n",
              "      <td>67500</td>\n",
              "      <td>66234.65625</td>\n",
              "      <td>9781038</td>\n",
              "      <td>4354241834</td>\n",
              "      <td>1.777242e+07</td>\n",
              "      <td>-0.007353</td>\n",
              "      <td>...</td>\n",
              "      <td>8329820.0</td>\n",
              "      <td>6.700990e+10</td>\n",
              "      <td>1.123496e+09</td>\n",
              "      <td>2.046165e+08</td>\n",
              "      <td>7.418709e+08</td>\n",
              "      <td>2.876347e+09</td>\n",
              "      <td>0.012911</td>\n",
              "      <td>4.015877e+10</td>\n",
              "      <td>USA_Sales</td>\n",
              "      <td>6</td>\n",
              "    </tr>\n",
              "    <tr>\n",
              "      <th>2</th>\n",
              "      <td>2023-08-14</td>\n",
              "      <td>67500</td>\n",
              "      <td>67900</td>\n",
              "      <td>66900</td>\n",
              "      <td>67300</td>\n",
              "      <td>66038.41406</td>\n",
              "      <td>9352343</td>\n",
              "      <td>4354241834</td>\n",
              "      <td>1.777242e+07</td>\n",
              "      <td>-0.002963</td>\n",
              "      <td>...</td>\n",
              "      <td>9708898.0</td>\n",
              "      <td>6.739315e+10</td>\n",
              "      <td>8.904166e+08</td>\n",
              "      <td>3.750379e+08</td>\n",
              "      <td>4.879591e+07</td>\n",
              "      <td>1.400409e+09</td>\n",
              "      <td>0.010511</td>\n",
              "      <td>2.361249e+10</td>\n",
              "      <td>USA_Sales</td>\n",
              "      <td>6</td>\n",
              "    </tr>\n",
              "    <tr>\n",
              "      <th>3</th>\n",
              "      <td>2023-08-16</td>\n",
              "      <td>66700</td>\n",
              "      <td>67100</td>\n",
              "      <td>66300</td>\n",
              "      <td>67000</td>\n",
              "      <td>65744.04688</td>\n",
              "      <td>13174578</td>\n",
              "      <td>4354241834</td>\n",
              "      <td>1.777242e+07</td>\n",
              "      <td>-0.004458</td>\n",
              "      <td>...</td>\n",
              "      <td>2924149.0</td>\n",
              "      <td>2.182787e+10</td>\n",
              "      <td>3.300231e+09</td>\n",
              "      <td>8.227833e+08</td>\n",
              "      <td>2.899789e+08</td>\n",
              "      <td>2.663915e+09</td>\n",
              "      <td>0.006328</td>\n",
              "      <td>3.924593e+10</td>\n",
              "      <td>USA_Sales</td>\n",
              "      <td>6</td>\n",
              "    </tr>\n",
              "    <tr>\n",
              "      <th>4</th>\n",
              "      <td>2023-08-17</td>\n",
              "      <td>66300</td>\n",
              "      <td>66800</td>\n",
              "      <td>66000</td>\n",
              "      <td>66700</td>\n",
              "      <td>65449.65625</td>\n",
              "      <td>10778652</td>\n",
              "      <td>4354241834</td>\n",
              "      <td>1.777242e+07</td>\n",
              "      <td>-0.004478</td>\n",
              "      <td>...</td>\n",
              "      <td>6314437.0</td>\n",
              "      <td>1.376370e+10</td>\n",
              "      <td>1.341129e+09</td>\n",
              "      <td>1.061303e+08</td>\n",
              "      <td>1.289946e+08</td>\n",
              "      <td>5.603085e+08</td>\n",
              "      <td>0.029359</td>\n",
              "      <td>6.795447e+09</td>\n",
              "      <td>USA_Sales</td>\n",
              "      <td>6</td>\n",
              "    </tr>\n",
              "  </tbody>\n",
              "</table>\n",
              "<p>5 rows × 25 columns</p>\n",
              "</div>\n",
              "    <div class=\"colab-df-buttons\">\n",
              "\n",
              "  <div class=\"colab-df-container\">\n",
              "    <button class=\"colab-df-convert\" onclick=\"convertToInteractive('df-820dfcae-68bd-48cd-8796-4337b92510f4')\"\n",
              "            title=\"Convert this dataframe to an interactive table.\"\n",
              "            style=\"display:none;\">\n",
              "\n",
              "  <svg xmlns=\"http://www.w3.org/2000/svg\" height=\"24px\" viewBox=\"0 -960 960 960\">\n",
              "    <path d=\"M120-120v-720h720v720H120Zm60-500h600v-160H180v160Zm220 220h160v-160H400v160Zm0 220h160v-160H400v160ZM180-400h160v-160H180v160Zm440 0h160v-160H620v160ZM180-180h160v-160H180v160Zm440 0h160v-160H620v160Z\"/>\n",
              "  </svg>\n",
              "    </button>\n",
              "\n",
              "  <style>\n",
              "    .colab-df-container {\n",
              "      display:flex;\n",
              "      gap: 12px;\n",
              "    }\n",
              "\n",
              "    .colab-df-convert {\n",
              "      background-color: #E8F0FE;\n",
              "      border: none;\n",
              "      border-radius: 50%;\n",
              "      cursor: pointer;\n",
              "      display: none;\n",
              "      fill: #1967D2;\n",
              "      height: 32px;\n",
              "      padding: 0 0 0 0;\n",
              "      width: 32px;\n",
              "    }\n",
              "\n",
              "    .colab-df-convert:hover {\n",
              "      background-color: #E2EBFA;\n",
              "      box-shadow: 0px 1px 2px rgba(60, 64, 67, 0.3), 0px 1px 3px 1px rgba(60, 64, 67, 0.15);\n",
              "      fill: #174EA6;\n",
              "    }\n",
              "\n",
              "    .colab-df-buttons div {\n",
              "      margin-bottom: 4px;\n",
              "    }\n",
              "\n",
              "    [theme=dark] .colab-df-convert {\n",
              "      background-color: #3B4455;\n",
              "      fill: #D2E3FC;\n",
              "    }\n",
              "\n",
              "    [theme=dark] .colab-df-convert:hover {\n",
              "      background-color: #434B5C;\n",
              "      box-shadow: 0px 1px 3px 1px rgba(0, 0, 0, 0.15);\n",
              "      filter: drop-shadow(0px 1px 2px rgba(0, 0, 0, 0.3));\n",
              "      fill: #FFFFFF;\n",
              "    }\n",
              "  </style>\n",
              "\n",
              "    <script>\n",
              "      const buttonEl =\n",
              "        document.querySelector('#df-820dfcae-68bd-48cd-8796-4337b92510f4 button.colab-df-convert');\n",
              "      buttonEl.style.display =\n",
              "        google.colab.kernel.accessAllowed ? 'block' : 'none';\n",
              "\n",
              "      async function convertToInteractive(key) {\n",
              "        const element = document.querySelector('#df-820dfcae-68bd-48cd-8796-4337b92510f4');\n",
              "        const dataTable =\n",
              "          await google.colab.kernel.invokeFunction('convertToInteractive',\n",
              "                                                    [key], {});\n",
              "        if (!dataTable) return;\n",
              "\n",
              "        const docLinkHtml = 'Like what you see? Visit the ' +\n",
              "          '<a target=\"_blank\" href=https://colab.research.google.com/notebooks/data_table.ipynb>data table notebook</a>'\n",
              "          + ' to learn more about interactive tables.';\n",
              "        element.innerHTML = '';\n",
              "        dataTable['output_type'] = 'display_data';\n",
              "        await google.colab.output.renderOutput(dataTable, element);\n",
              "        const docLink = document.createElement('div');\n",
              "        docLink.innerHTML = docLinkHtml;\n",
              "        element.appendChild(docLink);\n",
              "      }\n",
              "    </script>\n",
              "  </div>\n",
              "\n",
              "\n",
              "<div id=\"df-5b31fe73-7f0e-482d-be4a-94499aa10d5b\">\n",
              "  <button class=\"colab-df-quickchart\" onclick=\"quickchart('df-5b31fe73-7f0e-482d-be4a-94499aa10d5b')\"\n",
              "            title=\"Suggest charts\"\n",
              "            style=\"display:none;\">\n",
              "\n",
              "<svg xmlns=\"http://www.w3.org/2000/svg\" height=\"24px\"viewBox=\"0 0 24 24\"\n",
              "     width=\"24px\">\n",
              "    <g>\n",
              "        <path d=\"M19 3H5c-1.1 0-2 .9-2 2v14c0 1.1.9 2 2 2h14c1.1 0 2-.9 2-2V5c0-1.1-.9-2-2-2zM9 17H7v-7h2v7zm4 0h-2V7h2v10zm4 0h-2v-4h2v4z\"/>\n",
              "    </g>\n",
              "</svg>\n",
              "  </button>\n",
              "\n",
              "<style>\n",
              "  .colab-df-quickchart {\n",
              "      --bg-color: #E8F0FE;\n",
              "      --fill-color: #1967D2;\n",
              "      --hover-bg-color: #E2EBFA;\n",
              "      --hover-fill-color: #174EA6;\n",
              "      --disabled-fill-color: #AAA;\n",
              "      --disabled-bg-color: #DDD;\n",
              "  }\n",
              "\n",
              "  [theme=dark] .colab-df-quickchart {\n",
              "      --bg-color: #3B4455;\n",
              "      --fill-color: #D2E3FC;\n",
              "      --hover-bg-color: #434B5C;\n",
              "      --hover-fill-color: #FFFFFF;\n",
              "      --disabled-bg-color: #3B4455;\n",
              "      --disabled-fill-color: #666;\n",
              "  }\n",
              "\n",
              "  .colab-df-quickchart {\n",
              "    background-color: var(--bg-color);\n",
              "    border: none;\n",
              "    border-radius: 50%;\n",
              "    cursor: pointer;\n",
              "    display: none;\n",
              "    fill: var(--fill-color);\n",
              "    height: 32px;\n",
              "    padding: 0;\n",
              "    width: 32px;\n",
              "  }\n",
              "\n",
              "  .colab-df-quickchart:hover {\n",
              "    background-color: var(--hover-bg-color);\n",
              "    box-shadow: 0 1px 2px rgba(60, 64, 67, 0.3), 0 1px 3px 1px rgba(60, 64, 67, 0.15);\n",
              "    fill: var(--button-hover-fill-color);\n",
              "  }\n",
              "\n",
              "  .colab-df-quickchart-complete:disabled,\n",
              "  .colab-df-quickchart-complete:disabled:hover {\n",
              "    background-color: var(--disabled-bg-color);\n",
              "    fill: var(--disabled-fill-color);\n",
              "    box-shadow: none;\n",
              "  }\n",
              "\n",
              "  .colab-df-spinner {\n",
              "    border: 2px solid var(--fill-color);\n",
              "    border-color: transparent;\n",
              "    border-bottom-color: var(--fill-color);\n",
              "    animation:\n",
              "      spin 1s steps(1) infinite;\n",
              "  }\n",
              "\n",
              "  @keyframes spin {\n",
              "    0% {\n",
              "      border-color: transparent;\n",
              "      border-bottom-color: var(--fill-color);\n",
              "      border-left-color: var(--fill-color);\n",
              "    }\n",
              "    20% {\n",
              "      border-color: transparent;\n",
              "      border-left-color: var(--fill-color);\n",
              "      border-top-color: var(--fill-color);\n",
              "    }\n",
              "    30% {\n",
              "      border-color: transparent;\n",
              "      border-left-color: var(--fill-color);\n",
              "      border-top-color: var(--fill-color);\n",
              "      border-right-color: var(--fill-color);\n",
              "    }\n",
              "    40% {\n",
              "      border-color: transparent;\n",
              "      border-right-color: var(--fill-color);\n",
              "      border-top-color: var(--fill-color);\n",
              "    }\n",
              "    60% {\n",
              "      border-color: transparent;\n",
              "      border-right-color: var(--fill-color);\n",
              "    }\n",
              "    80% {\n",
              "      border-color: transparent;\n",
              "      border-right-color: var(--fill-color);\n",
              "      border-bottom-color: var(--fill-color);\n",
              "    }\n",
              "    90% {\n",
              "      border-color: transparent;\n",
              "      border-bottom-color: var(--fill-color);\n",
              "    }\n",
              "  }\n",
              "</style>\n",
              "\n",
              "  <script>\n",
              "    async function quickchart(key) {\n",
              "      const quickchartButtonEl =\n",
              "        document.querySelector('#' + key + ' button');\n",
              "      quickchartButtonEl.disabled = true;  // To prevent multiple clicks.\n",
              "      quickchartButtonEl.classList.add('colab-df-spinner');\n",
              "      try {\n",
              "        const charts = await google.colab.kernel.invokeFunction(\n",
              "            'suggestCharts', [key], {});\n",
              "      } catch (error) {\n",
              "        console.error('Error during call to suggestCharts:', error);\n",
              "      }\n",
              "      quickchartButtonEl.classList.remove('colab-df-spinner');\n",
              "      quickchartButtonEl.classList.add('colab-df-quickchart-complete');\n",
              "    }\n",
              "    (() => {\n",
              "      let quickchartButtonEl =\n",
              "        document.querySelector('#df-5b31fe73-7f0e-482d-be4a-94499aa10d5b button');\n",
              "      quickchartButtonEl.style.display =\n",
              "        google.colab.kernel.accessAllowed ? 'block' : 'none';\n",
              "    })();\n",
              "  </script>\n",
              "</div>\n",
              "\n",
              "    </div>\n",
              "  </div>\n"
            ],
            "application/vnd.google.colaboratory.intrinsic+json": {
              "type": "dataframe",
              "variable_name": "df"
            }
          },
          "metadata": {},
          "execution_count": 26
        }
      ]
    },
    {
      "cell_type": "code",
      "source": [
        "print(\"Missing values in each column:\")\n",
        "print(df.isnull().sum())\n"
      ],
      "metadata": {
        "colab": {
          "base_uri": "https://localhost:8080/"
        },
        "id": "0A15ac3kTd8U",
        "outputId": "00497884-f1f3-4eef-d47f-a15a1aa7571f"
      },
      "execution_count": 31,
      "outputs": [
        {
          "output_type": "stream",
          "name": "stdout",
          "text": [
            "Missing values in each column:\n",
            "Date                          0\n",
            "Open                          0\n",
            "High                          0\n",
            "Low                           0\n",
            "Close                         0\n",
            "Adj Close                     0\n",
            "Volume                        0\n",
            "Total_Stocks_Bought           0\n",
            "Average_Daily_Volume          0\n",
            "Daily_Return                  1\n",
            "Stock_Value                   0\n",
            "Company                     235\n",
            "EPS                         235\n",
            "Stock_Price                 235\n",
            "Net_Income                  235\n",
            "Total_Users                 235\n",
            "Total_Sales_Since_Launch    235\n",
            "USA_Sales                   235\n",
            "Canada_Sales                235\n",
            "UK_Sales                    235\n",
            "Tech_Sales                  235\n",
            "Value_for_Money             235\n",
            "Total_Profits               235\n",
            "Best_Seller_Country         235\n",
            "Best_in_Tech                  0\n",
            "dtype: int64\n"
          ]
        }
      ]
    },
    {
      "cell_type": "markdown",
      "source": [
        "Handling Missing values"
      ],
      "metadata": {
        "id": "WxnmJ2KxV_pv"
      }
    },
    {
      "cell_type": "code",
      "source": [
        "# Separate numerical and non-numerical columns\n",
        "numerical_columns = df.select_dtypes(include=[np.number]).columns\n",
        "non_numerical_columns = df.select_dtypes(exclude=[np.number]).columns"
      ],
      "metadata": {
        "id": "L8gbhRxqTl-b"
      },
      "execution_count": 33,
      "outputs": []
    },
    {
      "cell_type": "code",
      "source": [
        "# Impute missing values for numerical columns\n",
        "df[numerical_columns] = df[numerical_columns].fillna(df[numerical_columns].median())"
      ],
      "metadata": {
        "id": "RLXausb-T5oY"
      },
      "execution_count": 34,
      "outputs": []
    },
    {
      "cell_type": "code",
      "source": [
        "# Impute missing values for numerical columns\n",
        "# Verify that there are no more missing values\n",
        "\n",
        "# Impute missing values for categorical columns\n",
        "df['Company'].fillna('Unknown', inplace=True)  # Placeholder for missing company names\n",
        "df['Best_Seller_Country'].fillna(df['Best_Seller_Country'].mode()[0], inplace=True)  # Fill with most frequent value"
      ],
      "metadata": {
        "colab": {
          "base_uri": "https://localhost:8080/"
        },
        "id": "lszu-F1UUDrb",
        "outputId": "357208fe-86c7-4084-f700-74d42c9c454d"
      },
      "execution_count": 37,
      "outputs": [
        {
          "output_type": "stream",
          "name": "stdout",
          "text": [
            "Missing values after handling:\n",
            "Date                          0\n",
            "Open                          0\n",
            "High                          0\n",
            "Low                           0\n",
            "Close                         0\n",
            "Adj Close                     0\n",
            "Volume                        0\n",
            "Total_Stocks_Bought           0\n",
            "Average_Daily_Volume          0\n",
            "Daily_Return                  0\n",
            "Stock_Value                   0\n",
            "Company                     235\n",
            "EPS                           0\n",
            "Stock_Price                   0\n",
            "Net_Income                    0\n",
            "Total_Users                   0\n",
            "Total_Sales_Since_Launch      0\n",
            "USA_Sales                     0\n",
            "Canada_Sales                  0\n",
            "UK_Sales                      0\n",
            "Tech_Sales                    0\n",
            "Value_for_Money               0\n",
            "Total_Profits                 0\n",
            "Best_Seller_Country         235\n",
            "Best_in_Tech                  0\n",
            "dtype: int64\n"
          ]
        }
      ]
    },
    {
      "cell_type": "code",
      "source": [
        "print(\"Missing values after handling:\")\n",
        "print(df.isnull().sum())"
      ],
      "metadata": {
        "colab": {
          "base_uri": "https://localhost:8080/"
        },
        "id": "kL-sRXdkUd8P",
        "outputId": "cbde5383-524c-476c-e5ac-54c6cb1b104f"
      },
      "execution_count": 38,
      "outputs": [
        {
          "output_type": "stream",
          "name": "stdout",
          "text": [
            "Missing values after handling:\n",
            "Date                        0\n",
            "Open                        0\n",
            "High                        0\n",
            "Low                         0\n",
            "Close                       0\n",
            "Adj Close                   0\n",
            "Volume                      0\n",
            "Total_Stocks_Bought         0\n",
            "Average_Daily_Volume        0\n",
            "Daily_Return                0\n",
            "Stock_Value                 0\n",
            "Company                     0\n",
            "EPS                         0\n",
            "Stock_Price                 0\n",
            "Net_Income                  0\n",
            "Total_Users                 0\n",
            "Total_Sales_Since_Launch    0\n",
            "USA_Sales                   0\n",
            "Canada_Sales                0\n",
            "UK_Sales                    0\n",
            "Tech_Sales                  0\n",
            "Value_for_Money             0\n",
            "Total_Profits               0\n",
            "Best_Seller_Country         0\n",
            "Best_in_Tech                0\n",
            "dtype: int64\n"
          ]
        }
      ]
    },
    {
      "cell_type": "markdown",
      "source": [],
      "metadata": {
        "id": "3ala2ZVNWrO-"
      }
    },
    {
      "cell_type": "code",
      "source": [
        "from sklearn.model_selection import train_test_split\n",
        "from sklearn.linear_model import LinearRegression\n",
        "from sklearn.metrics import mean_squared_error, r2_score\n",
        "\n",
        "# Feature selection (you can adjust this based on your needs)\n",
        "features = ['EPS', 'Stock_Price', 'Net_Income', 'Total_Users', 'Total_Sales_Since_Launch',\n",
        "            'USA_Sales', 'Canada_Sales', 'UK_Sales', 'Tech_Sales']\n",
        "target = 'Stock_Price'  # Assuming we're predicting stock price\n",
        "\n",
        "# Prepare feature matrix X and target vector y\n",
        "X = df[features]\n",
        "y = df[target]\n",
        "\n",
        "# Split the data into training and test sets\n",
        "X_train, X_test, y_train, y_test = train_test_split(X, y, test_size=0.2, random_state=0)"
      ],
      "metadata": {
        "id": "xoKVA8XNTIo_"
      },
      "execution_count": 39,
      "outputs": []
    },
    {
      "cell_type": "markdown",
      "source": [
        "Feature Selection:\n",
        "The code begins by defining the feature variables and the target variable for the model. The features list includes columns such as EPS, Stock_Price, Net_Income, and others that will be used as input predictors. The target specifies that the model aims to predict the Stock_Price.\n",
        "\n",
        "Prepare Data:\n",
        "Next, the code prepares the feature matrix X and the target vector y from the DataFrame. X includes all the columns specified in the features list, while y consists of the values in the target column. This setup organizes the data for model training and evaluation.\n",
        "\n",
        "Split Data:\n",
        "The train_test_split function is then used to divide the data into training and testing sets. X_train and y_train are used to train the model, while X_test and y_test are reserved for testing and evaluating the model’s performance. The parameter test_size=0.2 indicates that 20% of the data will be used for testing, and random_state=0 ensures that the split is reproducible, giving consistent results across different runs.\n",
        "\n",
        "\n",
        "\n",
        "\n",
        "\n",
        "\n"
      ],
      "metadata": {
        "id": "KlHjLwy-Wy5T"
      }
    },
    {
      "cell_type": "code",
      "source": [
        "# Initialize and train the Linear Regression model\n",
        "model = LinearRegression()\n",
        "model.fit(X_train, y_train)\n"
      ],
      "metadata": {
        "colab": {
          "base_uri": "https://localhost:8080/",
          "height": 74
        },
        "id": "zl52pl4DTMAv",
        "outputId": "1a75e9c8-d5ed-425e-c478-0a66eaa13e84"
      },
      "execution_count": 40,
      "outputs": [
        {
          "output_type": "execute_result",
          "data": {
            "text/plain": [
              "LinearRegression()"
            ],
            "text/html": [
              "<style>#sk-container-id-1 {color: black;}#sk-container-id-1 pre{padding: 0;}#sk-container-id-1 div.sk-toggleable {background-color: white;}#sk-container-id-1 label.sk-toggleable__label {cursor: pointer;display: block;width: 100%;margin-bottom: 0;padding: 0.3em;box-sizing: border-box;text-align: center;}#sk-container-id-1 label.sk-toggleable__label-arrow:before {content: \"▸\";float: left;margin-right: 0.25em;color: #696969;}#sk-container-id-1 label.sk-toggleable__label-arrow:hover:before {color: black;}#sk-container-id-1 div.sk-estimator:hover label.sk-toggleable__label-arrow:before {color: black;}#sk-container-id-1 div.sk-toggleable__content {max-height: 0;max-width: 0;overflow: hidden;text-align: left;background-color: #f0f8ff;}#sk-container-id-1 div.sk-toggleable__content pre {margin: 0.2em;color: black;border-radius: 0.25em;background-color: #f0f8ff;}#sk-container-id-1 input.sk-toggleable__control:checked~div.sk-toggleable__content {max-height: 200px;max-width: 100%;overflow: auto;}#sk-container-id-1 input.sk-toggleable__control:checked~label.sk-toggleable__label-arrow:before {content: \"▾\";}#sk-container-id-1 div.sk-estimator input.sk-toggleable__control:checked~label.sk-toggleable__label {background-color: #d4ebff;}#sk-container-id-1 div.sk-label input.sk-toggleable__control:checked~label.sk-toggleable__label {background-color: #d4ebff;}#sk-container-id-1 input.sk-hidden--visually {border: 0;clip: rect(1px 1px 1px 1px);clip: rect(1px, 1px, 1px, 1px);height: 1px;margin: -1px;overflow: hidden;padding: 0;position: absolute;width: 1px;}#sk-container-id-1 div.sk-estimator {font-family: monospace;background-color: #f0f8ff;border: 1px dotted black;border-radius: 0.25em;box-sizing: border-box;margin-bottom: 0.5em;}#sk-container-id-1 div.sk-estimator:hover {background-color: #d4ebff;}#sk-container-id-1 div.sk-parallel-item::after {content: \"\";width: 100%;border-bottom: 1px solid gray;flex-grow: 1;}#sk-container-id-1 div.sk-label:hover label.sk-toggleable__label {background-color: #d4ebff;}#sk-container-id-1 div.sk-serial::before {content: \"\";position: absolute;border-left: 1px solid gray;box-sizing: border-box;top: 0;bottom: 0;left: 50%;z-index: 0;}#sk-container-id-1 div.sk-serial {display: flex;flex-direction: column;align-items: center;background-color: white;padding-right: 0.2em;padding-left: 0.2em;position: relative;}#sk-container-id-1 div.sk-item {position: relative;z-index: 1;}#sk-container-id-1 div.sk-parallel {display: flex;align-items: stretch;justify-content: center;background-color: white;position: relative;}#sk-container-id-1 div.sk-item::before, #sk-container-id-1 div.sk-parallel-item::before {content: \"\";position: absolute;border-left: 1px solid gray;box-sizing: border-box;top: 0;bottom: 0;left: 50%;z-index: -1;}#sk-container-id-1 div.sk-parallel-item {display: flex;flex-direction: column;z-index: 1;position: relative;background-color: white;}#sk-container-id-1 div.sk-parallel-item:first-child::after {align-self: flex-end;width: 50%;}#sk-container-id-1 div.sk-parallel-item:last-child::after {align-self: flex-start;width: 50%;}#sk-container-id-1 div.sk-parallel-item:only-child::after {width: 0;}#sk-container-id-1 div.sk-dashed-wrapped {border: 1px dashed gray;margin: 0 0.4em 0.5em 0.4em;box-sizing: border-box;padding-bottom: 0.4em;background-color: white;}#sk-container-id-1 div.sk-label label {font-family: monospace;font-weight: bold;display: inline-block;line-height: 1.2em;}#sk-container-id-1 div.sk-label-container {text-align: center;}#sk-container-id-1 div.sk-container {/* jupyter's `normalize.less` sets `[hidden] { display: none; }` but bootstrap.min.css set `[hidden] { display: none !important; }` so we also need the `!important` here to be able to override the default hidden behavior on the sphinx rendered scikit-learn.org. See: https://github.com/scikit-learn/scikit-learn/issues/21755 */display: inline-block !important;position: relative;}#sk-container-id-1 div.sk-text-repr-fallback {display: none;}</style><div id=\"sk-container-id-1\" class=\"sk-top-container\"><div class=\"sk-text-repr-fallback\"><pre>LinearRegression()</pre><b>In a Jupyter environment, please rerun this cell to show the HTML representation or trust the notebook. <br />On GitHub, the HTML representation is unable to render, please try loading this page with nbviewer.org.</b></div><div class=\"sk-container\" hidden><div class=\"sk-item\"><div class=\"sk-estimator sk-toggleable\"><input class=\"sk-toggleable__control sk-hidden--visually\" id=\"sk-estimator-id-1\" type=\"checkbox\" checked><label for=\"sk-estimator-id-1\" class=\"sk-toggleable__label sk-toggleable__label-arrow\">LinearRegression</label><div class=\"sk-toggleable__content\"><pre>LinearRegression()</pre></div></div></div></div></div>"
            ]
          },
          "metadata": {},
          "execution_count": 40
        }
      ]
    },
    {
      "cell_type": "markdown",
      "source": [
        "Initialize and Train the Linear Regression Model:\n",
        "The code starts by initializing a Linear Regression model using LinearRegression(). This model is then trained on the training data with the fit method. Specifically, model.fit(X_train, y_train) trains the model using the feature matrix X_train and the target vector y_train, allowing it to learn the relationship between the input features and the target variable (stock price).\n",
        "\n",
        "\n",
        "\n",
        "\n",
        "\n",
        "\n"
      ],
      "metadata": {
        "id": "DJ8R-IDSW9tf"
      }
    },
    {
      "cell_type": "code",
      "source": [
        "# Make predictions on the test set\n",
        "y_pred = model.predict(X_test)\n",
        "\n",
        "# Calculate performance metrics\n",
        "mse = mean_squared_error(y_test, y_pred)\n",
        "r2 = r2_score(y_test, y_pred)\n",
        "\n",
        "print(f\"Mean Squared Error: {mse}\")\n",
        "print(f\"R^2 Score: {r2}\")\n"
      ],
      "metadata": {
        "colab": {
          "base_uri": "https://localhost:8080/"
        },
        "id": "ZC9M7DZqUqWX",
        "outputId": "e541205a-0856-4583-9dce-b3a39bb9b66d"
      },
      "execution_count": 41,
      "outputs": [
        {
          "output_type": "stream",
          "name": "stdout",
          "text": [
            "Mean Squared Error: 2.0039405690123642e-06\n",
            "R^2 Score: 0.9999999986132887\n"
          ]
        }
      ]
    },
    {
      "cell_type": "markdown",
      "source": [
        "The Mean Squared Error (MSE) value of 2.0039405690123642e-06 (approximately 0.000002) indicates that the model's predictions are very accurate, with minimal error between predicted and actual values. The R^2 Score of 0.9999999986132887 signifies that the model explains almost all the variance in the target variable, reflecting an excellent fit. These metrics suggest that the model performs exceptionally well. However, such high R^2 scores and low MSE might indicate potential overfitting, so it's crucial to validate the model on new, unseen data to ensure it generalizes well to real-world scenarios.\n",
        "\n",
        "\n",
        "\n",
        "\n",
        "\n",
        "\n"
      ],
      "metadata": {
        "id": "jph9llQTXJaQ"
      }
    },
    {
      "cell_type": "code",
      "source": [
        "# REPORT"
      ],
      "metadata": {
        "id": "PqRwLXzfXepa"
      },
      "execution_count": null,
      "outputs": []
    },
    {
      "cell_type": "markdown",
      "source": [
        "Work completed:Using ML model to calculate the accuracy for stock market prediction.Linear regression is a statistical technique used to model and analyze the relationship between a dependent variable and one or more independent variables. It works by finding the best-fitting linear relationship (line) that predicts the dependent variable based on the independent variables. The model calculates the coefficients (weights) for each independent variable to minimize the difference between predicted and actual values, often using metrics like Mean Squared Error (MSE) and R^2 Score to evaluate its accuracy and fit.\n",
        "\n",
        "Challenges: Faced difficulties in finding the real time data based on all the attributed given to be mandatorily included.\n",
        "\n",
        "PLans for upcomming week:Visualization Charts based on the dataset prepared to get more insights and Predicting a Percentage of Success if it was made in India. Trying new ML models for increasing the accuracy."
      ],
      "metadata": {
        "id": "rx7pZFn-Xfrv"
      }
    }
  ]
}